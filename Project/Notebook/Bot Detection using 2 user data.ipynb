{
 "cells": [
  {
   "cell_type": "code",
   "execution_count": 1,
   "id": "393b5399",
   "metadata": {},
   "outputs": [],
   "source": [
    "import os\n",
    "import glob\n",
    "import pandas as pd\n",
    "import numpy as np\n",
    "import warnings\n",
    "warnings.filterwarnings('ignore')"
   ]
  },
  {
   "cell_type": "code",
   "execution_count": 2,
   "id": "6a25b5c5",
   "metadata": {},
   "outputs": [],
   "source": [
    "def fn(data_df):\n",
    "    a = data_df[\"Modal\"].tolist()\n",
    "#     file_name = filename\n",
    "    em = []\n",
    "    for i in range(0,len(a),1):\n",
    "#         print(a[i:i+2] , len(a[i:i+2]))\n",
    "        if len(a[i:i+2]) >=2 :\n",
    "            em.append(\"\".join(a[i:i+2]))\n",
    "    return em"
   ]
  },
  {
   "cell_type": "code",
   "execution_count": 3,
   "id": "2fffd09d",
   "metadata": {},
   "outputs": [],
   "source": [
    "path= r'E:\\Mini Project\\Data Set\\HUMAN'\n",
    "all_files = glob.glob(path + \"/*.csv\")\n",
    "li = []\n",
    "t_df = pd.DataFrame()\n",
    "full_df = pd.DataFrame()\n",
    "for filename in all_files:\n",
    "#     df = pd.DataFrame()\n",
    "    df = pd.read_csv(filename, index_col=None, header=0)\n",
    "    \n",
    "    t_df[\"filename\"] = [filename]\n",
    "    t_df[\"output\"] = [fn(df)]\n",
    "    \n",
    "    full_df = full_df.append(t_df,ignore_index=False)\n",
    "    \n",
    "    #li.append(df)\n",
    "    \n",
    "\n",
    "# frame = pd.concat(li, axis=0, ignore_index=True)\n"
   ]
  },
  {
   "cell_type": "code",
   "execution_count": 4,
   "id": "d43295c3",
   "metadata": {},
   "outputs": [],
   "source": [
    "path= r'E:\\Mini Project\\Data Set\\BOT'\n",
    "all_files = glob.glob(path + \"/*.csv\")\n",
    "li = []\n",
    "t_df = pd.DataFrame()\n",
    "bot_df = pd.DataFrame()\n",
    "for filename in all_files:\n",
    "#     df = pd.DataFrame()\n",
    "    df = pd.read_csv(filename, index_col=None, header=0)\n",
    "    \n",
    "    t_df[\"filename\"] = [filename]\n",
    "    t_df[\"output\"] = [fn(df)]\n",
    "    \n",
    "    bot_df = bot_df.append(t_df,ignore_index=False)\n",
    "    \n",
    "    #li.append(df)\n",
    "    \n",
    "\n",
    "# frame = pd.concat(li, axis=0, ignore_index=True)\n"
   ]
  },
  {
   "cell_type": "code",
   "execution_count": 5,
   "id": "e6b2e440",
   "metadata": {},
   "outputs": [],
   "source": [
    "def fn(data_df):\n",
    "    a = data_df[\"Modal\"].tolist()\n",
    "#     file_name = filename\n",
    "    em = []\n",
    "    for i in range(0,len(a),1):\n",
    "#         print(a[i:i+2] , len(a[i:i+2]))\n",
    "        if len(a[i:i+2]) >=2 :\n",
    "            em.append(\"\".join(a[i:i+2]))\n",
    "    return em"
   ]
  },
  {
   "cell_type": "code",
   "execution_count": 6,
   "id": "91fd42df",
   "metadata": {},
   "outputs": [
    {
     "data": {
      "text/html": [
       "<div>\n",
       "<style scoped>\n",
       "    .dataframe tbody tr th:only-of-type {\n",
       "        vertical-align: middle;\n",
       "    }\n",
       "\n",
       "    .dataframe tbody tr th {\n",
       "        vertical-align: top;\n",
       "    }\n",
       "\n",
       "    .dataframe thead th {\n",
       "        text-align: right;\n",
       "    }\n",
       "</style>\n",
       "<table border=\"1\" class=\"dataframe\">\n",
       "  <thead>\n",
       "    <tr style=\"text-align: right;\">\n",
       "      <th></th>\n",
       "      <th>filename</th>\n",
       "      <th>output</th>\n",
       "    </tr>\n",
       "  </thead>\n",
       "  <tbody>\n",
       "    <tr>\n",
       "      <th>0</th>\n",
       "      <td>E:\\Mini Project\\Data Set\\BOT\\bot1(1).csv</td>\n",
       "      <td>[AD, DD, DA, AD, DD, DD, DD, DA, AA, AD, DA, A...</td>\n",
       "    </tr>\n",
       "    <tr>\n",
       "      <th>0</th>\n",
       "      <td>E:\\Mini Project\\Data Set\\BOT\\bot1.csv</td>\n",
       "      <td>[DD, DD, DD, DD, DD, DD, DD, DD, DD, DD, DD, D...</td>\n",
       "    </tr>\n",
       "    <tr>\n",
       "      <th>0</th>\n",
       "      <td>E:\\Mini Project\\Data Set\\BOT\\bot10(1).csv</td>\n",
       "      <td>[CC, CA, AA, AA, AD, DD, DA, AA, AC, CA, AA, A...</td>\n",
       "    </tr>\n",
       "    <tr>\n",
       "      <th>0</th>\n",
       "      <td>E:\\Mini Project\\Data Set\\BOT\\bot10.csv</td>\n",
       "      <td>[AA, AA, AD, DA, AA, AA, AA, AA, AA, AD, DA, A...</td>\n",
       "    </tr>\n",
       "    <tr>\n",
       "      <th>0</th>\n",
       "      <td>E:\\Mini Project\\Data Set\\BOT\\bot100.csv</td>\n",
       "      <td>[CA, AA, AD, DA, AA, AA, AA, AA, AD, DA, AA, A...</td>\n",
       "    </tr>\n",
       "    <tr>\n",
       "      <th>...</th>\n",
       "      <td>...</td>\n",
       "      <td>...</td>\n",
       "    </tr>\n",
       "    <tr>\n",
       "      <th>0</th>\n",
       "      <td>E:\\Mini Project\\Data Set\\BOT\\bot9_2.csv</td>\n",
       "      <td>[DD, DD, DD, DD, DD, DD, DD, DD, DD, DD, DD, D...</td>\n",
       "    </tr>\n",
       "    <tr>\n",
       "      <th>0</th>\n",
       "      <td>E:\\Mini Project\\Data Set\\BOT\\bot9_3.csv</td>\n",
       "      <td>[DD, DD, DD, DD, DC, CD, DD, DC, CD, DD, DD, D...</td>\n",
       "    </tr>\n",
       "    <tr>\n",
       "      <th>0</th>\n",
       "      <td>E:\\Mini Project\\Data Set\\BOT\\bot9_4.csv</td>\n",
       "      <td>[DD, DD, DD, DD, DD, DD, DD, DD, DD, DD, DD, D...</td>\n",
       "    </tr>\n",
       "    <tr>\n",
       "      <th>0</th>\n",
       "      <td>E:\\Mini Project\\Data Set\\BOT\\bot9_5.csv</td>\n",
       "      <td>[DD, DD, DD, DD, DD, DD, DD, DD, DD, DD, DD, D...</td>\n",
       "    </tr>\n",
       "    <tr>\n",
       "      <th>0</th>\n",
       "      <td>E:\\Mini Project\\Data Set\\BOT\\bot9_6.csv</td>\n",
       "      <td>[CC, CC, CA, AC, CC, CA, AC, CC, CD, DD, DC, C...</td>\n",
       "    </tr>\n",
       "  </tbody>\n",
       "</table>\n",
       "<p>431 rows × 2 columns</p>\n",
       "</div>"
      ],
      "text/plain": [
       "                                     filename  \\\n",
       "0    E:\\Mini Project\\Data Set\\BOT\\bot1(1).csv   \n",
       "0       E:\\Mini Project\\Data Set\\BOT\\bot1.csv   \n",
       "0   E:\\Mini Project\\Data Set\\BOT\\bot10(1).csv   \n",
       "0      E:\\Mini Project\\Data Set\\BOT\\bot10.csv   \n",
       "0     E:\\Mini Project\\Data Set\\BOT\\bot100.csv   \n",
       "..                                        ...   \n",
       "0     E:\\Mini Project\\Data Set\\BOT\\bot9_2.csv   \n",
       "0     E:\\Mini Project\\Data Set\\BOT\\bot9_3.csv   \n",
       "0     E:\\Mini Project\\Data Set\\BOT\\bot9_4.csv   \n",
       "0     E:\\Mini Project\\Data Set\\BOT\\bot9_5.csv   \n",
       "0     E:\\Mini Project\\Data Set\\BOT\\bot9_6.csv   \n",
       "\n",
       "                                               output  \n",
       "0   [AD, DD, DA, AD, DD, DD, DD, DA, AA, AD, DA, A...  \n",
       "0   [DD, DD, DD, DD, DD, DD, DD, DD, DD, DD, DD, D...  \n",
       "0   [CC, CA, AA, AA, AD, DD, DA, AA, AC, CA, AA, A...  \n",
       "0   [AA, AA, AD, DA, AA, AA, AA, AA, AA, AD, DA, A...  \n",
       "0   [CA, AA, AD, DA, AA, AA, AA, AA, AD, DA, AA, A...  \n",
       "..                                                ...  \n",
       "0   [DD, DD, DD, DD, DD, DD, DD, DD, DD, DD, DD, D...  \n",
       "0   [DD, DD, DD, DD, DC, CD, DD, DC, CD, DD, DD, D...  \n",
       "0   [DD, DD, DD, DD, DD, DD, DD, DD, DD, DD, DD, D...  \n",
       "0   [DD, DD, DD, DD, DD, DD, DD, DD, DD, DD, DD, D...  \n",
       "0   [CC, CC, CA, AC, CC, CA, AC, CC, CD, DD, DC, C...  \n",
       "\n",
       "[431 rows x 2 columns]"
      ]
     },
     "execution_count": 6,
     "metadata": {},
     "output_type": "execute_result"
    }
   ],
   "source": [
    "bot_df"
   ]
  },
  {
   "cell_type": "code",
   "execution_count": 7,
   "id": "ee07b8a2",
   "metadata": {},
   "outputs": [
    {
     "data": {
      "text/html": [
       "<div>\n",
       "<style scoped>\n",
       "    .dataframe tbody tr th:only-of-type {\n",
       "        vertical-align: middle;\n",
       "    }\n",
       "\n",
       "    .dataframe tbody tr th {\n",
       "        vertical-align: top;\n",
       "    }\n",
       "\n",
       "    .dataframe thead th {\n",
       "        text-align: right;\n",
       "    }\n",
       "</style>\n",
       "<table border=\"1\" class=\"dataframe\">\n",
       "  <thead>\n",
       "    <tr style=\"text-align: right;\">\n",
       "      <th></th>\n",
       "      <th>filename</th>\n",
       "      <th>output</th>\n",
       "    </tr>\n",
       "  </thead>\n",
       "  <tbody>\n",
       "    <tr>\n",
       "      <th>0</th>\n",
       "      <td>E:\\Mini Project\\Data Set\\HUMAN\\human1.csv</td>\n",
       "      <td>[CD, DA, AD, DC, CD, DC, CD, DC, CA, AC, CD, D...</td>\n",
       "    </tr>\n",
       "    <tr>\n",
       "      <th>0</th>\n",
       "      <td>E:\\Mini Project\\Data Set\\HUMAN\\human10.csv</td>\n",
       "      <td>[AD, DA, AD, DC, CC, CC, CD, DC, CD, DD, DD, D...</td>\n",
       "    </tr>\n",
       "    <tr>\n",
       "      <th>0</th>\n",
       "      <td>E:\\Mini Project\\Data Set\\HUMAN\\human100.csv</td>\n",
       "      <td>[CC, CC, CA, AC, CC, CC, CC, CD, DC, CC, CC, C...</td>\n",
       "    </tr>\n",
       "    <tr>\n",
       "      <th>0</th>\n",
       "      <td>E:\\Mini Project\\Data Set\\HUMAN\\human101.csv</td>\n",
       "      <td>[CC, CC, CC, CD, DC, CA, AC, CC, CC, CC, CC, C...</td>\n",
       "    </tr>\n",
       "    <tr>\n",
       "      <th>0</th>\n",
       "      <td>E:\\Mini Project\\Data Set\\HUMAN\\human102.csv</td>\n",
       "      <td>[DA, AC, CA, AA, AC, CD, DC, CT, TT, TD, DD, D...</td>\n",
       "    </tr>\n",
       "    <tr>\n",
       "      <th>...</th>\n",
       "      <td>...</td>\n",
       "      <td>...</td>\n",
       "    </tr>\n",
       "    <tr>\n",
       "      <th>0</th>\n",
       "      <td>E:\\Mini Project\\Data Set\\HUMAN\\human96.csv</td>\n",
       "      <td>[DD, DA, AD, DD, DD, DD, DD, DA, AD, DC, CC, C...</td>\n",
       "    </tr>\n",
       "    <tr>\n",
       "      <th>0</th>\n",
       "      <td>E:\\Mini Project\\Data Set\\HUMAN\\human98.csv</td>\n",
       "      <td>[AD, DD, DA, AA, AD, DA, AD, DC, CA, AD, DD, D...</td>\n",
       "    </tr>\n",
       "    <tr>\n",
       "      <th>0</th>\n",
       "      <td>E:\\Mini Project\\Data Set\\HUMAN\\human99.csv</td>\n",
       "      <td>[DD, DC, CC, CC, CC, CA, AD, DD, DD, DC, CC, C...</td>\n",
       "    </tr>\n",
       "    <tr>\n",
       "      <th>0</th>\n",
       "      <td>E:\\Mini Project\\Data Set\\HUMAN\\human9_2.csv</td>\n",
       "      <td>[CC, CC, CD, DD, DC, CA, AC, CC, CC, CD, DA, A...</td>\n",
       "    </tr>\n",
       "    <tr>\n",
       "      <th>0</th>\n",
       "      <td>E:\\Mini Project\\Data Set\\HUMAN\\human9_3.csv</td>\n",
       "      <td>[TD, DC, CD, DD, DD, DD, DD, DC, CC, CD, DD, D...</td>\n",
       "    </tr>\n",
       "  </tbody>\n",
       "</table>\n",
       "<p>429 rows × 2 columns</p>\n",
       "</div>"
      ],
      "text/plain": [
       "                                       filename  \\\n",
       "0     E:\\Mini Project\\Data Set\\HUMAN\\human1.csv   \n",
       "0    E:\\Mini Project\\Data Set\\HUMAN\\human10.csv   \n",
       "0   E:\\Mini Project\\Data Set\\HUMAN\\human100.csv   \n",
       "0   E:\\Mini Project\\Data Set\\HUMAN\\human101.csv   \n",
       "0   E:\\Mini Project\\Data Set\\HUMAN\\human102.csv   \n",
       "..                                          ...   \n",
       "0    E:\\Mini Project\\Data Set\\HUMAN\\human96.csv   \n",
       "0    E:\\Mini Project\\Data Set\\HUMAN\\human98.csv   \n",
       "0    E:\\Mini Project\\Data Set\\HUMAN\\human99.csv   \n",
       "0   E:\\Mini Project\\Data Set\\HUMAN\\human9_2.csv   \n",
       "0   E:\\Mini Project\\Data Set\\HUMAN\\human9_3.csv   \n",
       "\n",
       "                                               output  \n",
       "0   [CD, DA, AD, DC, CD, DC, CD, DC, CA, AC, CD, D...  \n",
       "0   [AD, DA, AD, DC, CC, CC, CD, DC, CD, DD, DD, D...  \n",
       "0   [CC, CC, CA, AC, CC, CC, CC, CD, DC, CC, CC, C...  \n",
       "0   [CC, CC, CC, CD, DC, CA, AC, CC, CC, CC, CC, C...  \n",
       "0   [DA, AC, CA, AA, AC, CD, DC, CT, TT, TD, DD, D...  \n",
       "..                                                ...  \n",
       "0   [DD, DA, AD, DD, DD, DD, DD, DA, AD, DC, CC, C...  \n",
       "0   [AD, DD, DA, AA, AD, DA, AD, DC, CA, AD, DD, D...  \n",
       "0   [DD, DC, CC, CC, CC, CA, AD, DD, DD, DC, CC, C...  \n",
       "0   [CC, CC, CD, DD, DC, CA, AC, CC, CC, CD, DA, A...  \n",
       "0   [TD, DC, CD, DD, DD, DD, DD, DC, CC, CD, DD, D...  \n",
       "\n",
       "[429 rows x 2 columns]"
      ]
     },
     "execution_count": 7,
     "metadata": {},
     "output_type": "execute_result"
    }
   ],
   "source": [
    "full_df"
   ]
  },
  {
   "cell_type": "code",
   "execution_count": 8,
   "id": "d0da5279",
   "metadata": {},
   "outputs": [],
   "source": [
    "corpus =list(map(lambda x:\" \".join(x),full_df['output'].tolist()))"
   ]
  },
  {
   "cell_type": "code",
   "execution_count": 9,
   "id": "a3e91c92",
   "metadata": {},
   "outputs": [],
   "source": [
    "corpus1 =list(map(lambda x:\" \".join(x),bot_df['output'].tolist()))"
   ]
  },
  {
   "cell_type": "code",
   "execution_count": 10,
   "id": "c18a4fab",
   "metadata": {},
   "outputs": [
    {
     "data": {
      "text/plain": [
       "'CD DA AD DC CD DC CD DC CA AC CD DD DC CD DD DA AD DA AD DC CD DD DC CC CD DC CC CD DD DC CC CC CD DC CC CC CC CC CA AD DD DA AD DC CD DC CD DD DC CC CA AC CD DC CC CD DD DD DD DD DC CC CC CA AD DD DC CD DD DC CD DC CC CC CC CC CC CD DC CD DC CD DD DD DC CD DD DD DD DD DC CD DD DD DD DC CC CC CC CD DC CC CC CC CC CD DC CD DC CD DD DD DC CD DC CC CC CA AC CC CC CD DD DD DD DC CD DC CD DD DC CC CC CC CC CD DD DC CC CD DA AA AA AD DA AC CC CA AD DC CC CD DA AC CD DC CD DC CC CD DA AD DD DC CC CD DD DD DA AA AD DD DC CC CC CC CC CC CC CC CC CD DC CA AA AD DD DC CD DC CD DD DC CD DC CC CA AD DD DD DD DC CD DC CC CD DD DD DC CC CC CC CA AC CC CA AA AD DC CD DC CD DC CD DC CD DC CC CC CD DD DD DD DD DD DD DD DD DC CC CD DC CC CC CC CD DC CD DD DC CC CD DA AC CC CD DD DD DC CC CC CC CC CC CD DD DC CA AC CC CC CC CC CC CC CA AC CA AC CC CD DD DC CD DA AD DD DD DD DC CD DA AC CC CD DC CD DD DA AC CC CC CD DC CC CC CC CD DC CC CC CD DC CD DD DD DC CD DC CD DD DC CD DA AA AC CD DD DD DC CC CC CC CD DC CC CA AD DC CC CC CD DD DD DD DC CC CA AD DD DD DD DD DC CD DD DD DC CC CC CC CC CC CC CD DC CA AC CD DD DC CD DC CC CC CD DC CC CD DC CC CC CC CD DD DC CC CD DD DD DD DD DC CC CC CD DD DA AC CC CA AC CC CD DC CC CC CD DD DD DD DD DD DD DC CC CC CC CD DC CC CC CD DD DD DC CC CD DA AC CD DC CC CC CC CD DD DD DC CA AD DC CD DC CA AD DC CC CC CC CC CC CC CC CC CD DD DC CA AD DC CC CC CD DC CA AA AA AA AC CD DD DA AA AA AD DD DA AD DC CC CD DC CC CA AD DD DD DD DC CC CC CD DA AC CA AC CD DC CC CC CA AD DA AA AD DA AA AD DA AD DA AA AA AC CD DA AA AD DC CA AA AD DD DC CD DD DA AA AD DA AA AA AC CD DC CC CC CA AD DA AD DA AA AD DA AA AD DD DC CD DD DC CD DC CD DD DD DD DD DD DA AA AA AD DA AA AC CD DC CA AC CA AA AA AC CC CC CC CC CD DC CD DC CD DD DA AA AA AA AD DD DA AD DD DA AC CC CD DD DD DD DD DD DD DD DC CD DA AA AC CA AC CD DD DA AA AA AD DA AA AA AA AA AA AA AC CD DA AC CC CA AA AA AA AD DA AD DD DC CD DC CD DA AA AA AA AD DA AC CA AC CA AA AA AD DD DD DD DA AA AD DD DD DA AC CA AC CC CD DC CC CC CD DC CC CC CA AD DD DD DD DD DD DA AD DD DD DC CA AA AD DD DA AC CC CD DA AD DD DD DA AA AC CC CA AC CA AA AA AD DA AA AC CA AC CD DC CA AA AD DA AA AA AD DA AA AD DA AA AA AA AA AD DA AA AD DC CC CA AD DA AD DA AA AA AA AD DC CC CA AA AA AA AA AA AC CA AD DA AA AA AA AA AA AA AA AA AC CD DC CA AC CA AD DA AC CA AD DA AA AA AA AD DA AA AD DA AA AC CA AA AA AD DA AA AD DA AD DA AD DA AA AC CA AD DC CD DA AA AD DA AD DD DC CC CA AA AA AA AD DA AD DA AA AA AA AD DD DA AA AD DA AD DD DD DA AD DA AD DA AA AA AA AA AA AA AA AA AD DD DC CA AA AA AD DA AA AC CA AA AD DD DA AA AD DD DC CA AA AA AA AD DA AD DA AA AA AA AA AA AA AA AA AA AA AD DA AA AA AA AA AA AD DD DD DA AA AA AA AA AD DA AA AA AA AA AD DA AA AD DD DA AD DA AA AA AA AA AD DA AA AC CA AA AD DD DD DD DA AA AA AA AA AA AA AD DA AD DA AD DD DD DA AC CC CA AA AA AC CD DC CD DT TA AA AD DC CD DA AA AC CA AD DC CA AC CA AC CD DD DA AD DD DA AA AA AA AC CC CD DD DA AA AD DC CC CA AD DD DD DD DD DD DD DD DC CC CD DA AA AC CC CD DD DD DD DD DC CD DD DA AC CA AA AA AA AA AA AD DA AA AA AA AA AD DA AA AD DD DD DA AA AA AA AA AA AA AA AA AA AA AA AA AA AA AA AA AA AA AA AA AA AA AA AA AA AA AA AA AA AA AA AD DA AA AA AA AA AA AA AA AA AA AA AD DA AA AA AA AD DD DA AA AA AA AD DD DA AA AA AT TA AA AA AA AA AA AA AA AA AA AA AA AA AA AA AA AA AA AA AA AA AD DT TA AA AA AA AA AA AD DA AD DA AA AA AA AA AA AA AD DA AA AA AD DA AA AA AA AA AA AA AA AA AA AA AA AA AA AA AA AA AA AA AA AD DA AA AA AA AD DA AA AA AA AA AA AA AA AD DA AC CA AA AA AA AA AA AA AA AA AA AD DA AA AA AA AA AA AA AD DD DA AD DA AA AA AA AA AA AA AA AA AA AA AD DA AA AD DA AA AD DA AA AA AA AC CC CD DC CD DD DA AC CA AD DC CD DD DC CD DC CA AC CC CC CA AC CD DA AA AC CA AC CA AA AA AC CA AD DA AA AC CC CC CD DC CD DC CD DC CA AD DD DA AA AC CC CC CD DD DD DD DC CD DC CC CD DC CD DA AD DC CD DD DD DC CC CC CD DC CA AD DC CC CC CD DD DC CD DC CC CC CD DC CD DC CD DA AC CC CD DC CD DC CD DC CD DA AC CC CD DA AD DC CC CC CC CD DC CC CC CD DD DA AA AD DC CD DD DD DD DD DD DD DA AD DC CD DD DD DD DC CD DD DC CD DD DC CD DD DD DC CC CD DD DC CC CC CD DD DC CD DD DD DC CC CC CC CD DC CC CC CD DC CD DA AD DC CD DC CC CC CC CD DC CD DD DD DC CA AC CC CD DC CC CC CD DD DC CC CA AC CC CC CD DC CC CD DD DC CD DD DD DD DC CC CC CC CD DC CC CC CC CC CC CC CD DC CC CC CC CC CC CD DD DA AC CC CC CD DD DD DC CD DC CD DA AD DC CC CD DD DC CD DC CC CC CC CD DD DD DC CC CA AC CA AC CC CC CC CC CA AD DC CD DC CC CC CC CD DC CA AD DC CD DC CD DD DD DD DD DD DD DD DD DC CA AC CC CC CC CC CD DD DC CD DC CD DD DD DD DD DD DC CD DD DC CC CD DD DD DD DD'"
      ]
     },
     "execution_count": 10,
     "metadata": {},
     "output_type": "execute_result"
    }
   ],
   "source": [
    "\" \".join(full_df['output'].tolist()[0])"
   ]
  },
  {
   "cell_type": "code",
   "execution_count": 11,
   "id": "83c7a2f7",
   "metadata": {},
   "outputs": [
    {
     "data": {
      "text/plain": [
       "'AD DD DA AD DD DD DD DA AA AD DA AA AA AA AA AA AA AA AA AA AA AA AA AD DD DD DA AD DA AA AA AA AA AD DA AA AA AD DD DA AA AA AA AA AA AA AA AD DD DA AA AD DD DD DD DA AD DA AA AA AD DA AA AA AD DA AD DA AA AA AA AD DA AA AA AD DD DA AA AD DD DD DA AA AA AA AD DA AA AA AD DA AA AD DA AA AA AD DA AC CA AA AA AA AA AA AC CA AA AA AD DD DA AC CD DD DA AA AD DA AA AD DA AA AA AA AA AA AA AA AA AD DA AD DA AA AD DA AA AA AA AA AA AD DA AD DA AA AA AA AD DA AA AD DA AA AD DD DA AD DD DA AA AA AA AD DA AA AA AA AD DA AA AA AD DA AA AD DA AD DA AA AA AA AA AA AA AA AD DA AD DA AA AA AD DA AA AD DD DA AA AA AA AA AD DA AA AA AA AA AA AD DA AC CA AA AA AA AA AA AA AA AA AA AA AA AA AA AA AA AA AA AA AA AA AA AA AA AD DA AA AA AA AA AA AA AA AA AA AA AA AA AA AA AA AA AA AA AC CA AA AA AD DD DA AA AA AA AA AA AA AA AA AD DA AA AC CA AA AA AA AD DA AA AA AA AA AA AA AD DA AA AA AA AA AD DA AA AA AD DA AA AD DA AA AA AA AD DA AA AA AA AA AA AA AA AA AA AA AA AD DA AA AA AA AA AA AA AA AA AA AA AA AA AA AA AA AA AA AA AA AA AA AA AA AA AA AD DA AA AA AA AA AA AA AD DA AA AA AA AA AD DD DA AA AA AD DA AA AD DA AA AA AA AA AA AD DA AA AA AA AA AA AA AD DA AA AC CA AD DA AD DD DA AD DA AA AA AA AD DD DD DA AA AA AA AA AA AD DA AD DA AA AD DA AA AA AA AD DD DA AD DD DA AA AA AA AA AA AD DD DT TA AD DD DA AA AA AA AA AA AA AA AA AD DA AA AA AA AA AA AA AA AA AA AA AA AA AA AA AA AA AA AA AA AA AA AA AA AA AA AA AA AD DA AD DA AA AA AA AA AA AA AA AA AA AA AA AA AA AA AA AA AC CA AA AC CD DD DA AC CA AA AD DD DA AD DD DD DD DD DD DA AC CA AA AA AA AA AD DA AA AA AA AA AA AA AD DA AA AA AA AA AA AA AA AA AA AT TT TA AD DC CA AD DD DT TT TD DT TT TT TD DD DT TD DD DA AA AC CT TD DC CD DD DD DA AD DA AA AA AA AA AA AD DA AA AA AD DA AA AA AA AA AA AA AA AA AA AA AA AA AA AA AA AA AA AA AD DA AA AA AA AA AA AA AA AA AA AA AA AD DA AA AA AA AA AA AA AA AA AA AA AA AA AA AA AA AA AA AA AA AA AA AA AA AA AA AA AA AA AA AA AA AA AA AA AA AA AA AA AA AA AA AT TA AA AA AA AA AA AA AA AA AA AA AA AA AA AA AA AA AA AA AA AA AA AA AD DA AA AA AA AA AA AD DD DD DA AA AD DA AA AA AD DD DA AA AA AD DA AD DA AA AA AA AA AD DA AA AA AA AD DA AA AA AD DD DD DD DD DA AA AD DA AA AA AD DD DA AD DA AD DD DA AA AA AA AD DA AA AA AA AA AD DA AD DA AA AA AA AA AA AA AA AA AA AA AA AA AA AA AA AC CA AA AA AT TD DA AA AA AA AA AA AA AD DD DA AD DA AD DA AA AD DA AA AA AA AA AA AD DD DA AA AD DA AD DD DD DA AD DD DA AA AA AD DA AD DA AD DA AA AA AD DT TC CC CA AD DA AD DD DA AA AA AD DA AA AD DD DA AA AA AA AD DA AD DA AD DD DA AA AC CD DD DA AA AA AA AA AA AA AD DA AC CA AA AA AA AA AD DA AA AA AA AA AA AA AA AA AA AA AA AA AA AA AA AA AA AA AA AA AA AA AA AA AD DA AA AA AD DA AA AA AA AA AD DD DA AA AA AA AA AA AD DA AA AD DA AD DA AD DA AD DD DA AA AD DD DA AA AA AA AD DD DA AA AD DD DD DD DA AA AA AA AA AA AA AD DA AA AD DA AD DA AA AA AA AA AA AA AA AD DD DA AD DA AA AA AD DA AA AA AA AA AA AA AA AA AA AA AA AA AD DA AA AD DA AD DA AA AA AA AA AA AD DA AA AA AA AD DA AA AA AA AD DD DA AD DA AA AA AA AD DD DD DA AA AA AA AA AA AD DA AA AA AA AA AA AA AA AA AD DD DA AA AA AA AA AA AA AA AA AA AD DA AA AA AA AA AA AA AA AA AA AA AA AD DA AA AA AA AA AA AA AA AA AA AA AA AA AA AA AA AA AA AA AA AD DA AA AA AA AA AA AD DA AA AA AA AA AA AA AA AA AA AA AA AA AA AA AA AD DA AA AA AA AA AA AA AA AA AD DA AA AA AA AD DA AA AA AA AA AA AD DA AA AA AA AD DA AA AA AA AA AD DD DA AA AD DD DA AC CA AA AA AA AD DD DA AD DA AA AA AD DD DA AA AA AA AD DA AA AA AA AA AA AA AA AA AD DD DA AA AA AD DA AD DC CD DD DD DA AD DC CA AA AA AA AA AD DD DA AA AA AD DA AC CC CA AD DA AD DA AC CD DA AC CA AD DD DA AA AD DC CD DA AD DD DA AA AD DD DA AD DC CA AA AA AA AC CC CA AA AC CC CC CC CA AA AC CC CA AD DD DA AA AA AA AA AA AA AA AA AD DA AA AA AA AA AD DC CA AA AD DA AA AA AA AA AD DD DD DD DA AA AA AD DA AA AA AA AA AD DA AT TD DA AA AD DA AA AA AD DA AA AD DD DD DA AA AA AD DA AA AA AD DA AD DC CD DD DA AA AA AA AA AA AA AD DA AD DA AA AA AA AD DA AD DA AA AA AD DA AD DA AD DA AA AA AA AA AA AA AA AA AA AA AD DA AA AA AA AA AA AA AA AA AA AA AD DA AA AD DA AA AD DD DA AD DD DA AD DD DD DA AA AD DA AA AT TA AD DA AA AD DC CA AA AA AC CD DA AA AA AA AA AA AC CC CA AA AA AD DD DA AA AA AA AA AA AA AA AA AA AA AA AA AA AA AA AA AA AA AA AA AA AA AA AA AA AD DA AA AA AD DA AA AA AA AA AA AA AD DA AA AA AA AA AD DT TT TD DC CC CD DA AD DA AD DD DD DC CA AA AD DD DD DA AA AD DA AA AA AD DA AA AA AA AA AA AA AT TA AA AA AD DD DA AD DA AC CC CD DA AD DC CA AA AA AA AD DA AD DD DD DC CC CC CA AC CD DD DC CD DC CD DA AC CD DA AC CC CC CD DA AD DA AD DC CD DA AC CC CD DD DD DD DT TT TD DA AA AA AA AC CA AA AA AA AA AD DA AA AC CA AA AA AC CD DD DD DA AA AA AD DD DD DA AA AA AA AA AA AD DA AA AC CA AA AA AD DD DD DD DA AA AT TD DA AA AD DD DD DD DC CC CC CC CA AD DD DA AA AD DA AA AA AA AA AA AT TD DD DA AD DA AA AA AA AA AA AA AA AA AA AA AA AA AA AD DA AA AD DA AD DA AA AA AD DA AD DA AD DA AD DA AA AA AD DA AA AD DD DA AA AA AA AA AA AD DA AD DD DD DC CD DC CC CA AD DD DA AA AC CD DA AD DA AC CA AA AC CA AC CA AT TD DD DA AD DA AA AC CA AA AD DA AA AA AA AA AA AA AA AD DA AD DA AA AA AA AA AC CA AD DD DA AC CC CA AC CA AA AD DA AD DA AA AD DC CD DD DD DC CC CA AD DA AC CA AA AA AC CD DA AC CA AD DA AA AA AA AA AA AA AD DA AA AA AA AA AA AA AA AA AA AA AD DC CD DA AA AA AA AA AA AA AA AA AA AA AA AD DA AD DA AA AD DD DD DD DA AD DD DA AA AA AA AA AA AA AA AA AD DA AA AD DD DA AA AA AA AD DD DD DA AD DA AA AA AD DA AD DA AA AA AD DA AD DA AA AD DD DA AD DD DA AD DA AA AD DD DD DD DD DA AD DA AA AD DD DC CC CD DD DC CA AD DA AA AD DD DD DA AC CD DC CA AC CA AC CD DD DD DC CA AA AD DD DA AA AA AA AC CD DA AA AD DA AD DA AA AD DD DC CD DD DA AD DC CD DA AA AA AD DD DA AC CA AA AD DA AA AD DA AD DD DA AA AD DA AA AA AA AA AA AA AA AA AD DD DA AA AA AA AA AA AA AA AA AA AA AA AC CA AC CA AC CA AA AC CC CC CC CA AC CA AA AC CA AA AC CD DC CA AC CC CC CD DD DC CA AC CD DC CC CC CC CC CA AD DA AA AD DC CD DC CD DC CD DA AA AA AA AA AA AC CD DA AA AA AA AA AD DA AC CD DA AA AC CA AA AA AC CA AA AT TC CA AA AD DA AC CA AA AC CA AC CC CC CA AA AC CD DC CA AA AA AA AA AD DA AT TT TD DA AA AA AA AD DA AD DD DD DC CC CA AT TC CC CD DC CC CA AA AA AC CC CD DC CD DA AA AA AA AA AA AA AA AA AD DA AA AA AA AA AC CA AA AA AA AA AA AA AA AA AD DA AD DA AC CA AA AA AA AA AA AA AA AA AD DA AA AA AA AA AA AA AA AA AA AA AA AA AA AA AA AA AA AA AD DD DD DA AA AA AD DD DA AA AD DA AA AT TA AA AT TT TT TC CA AA AA AD DA AA AA AA AA AA AA AA AA AA AA AA AC CC CA AA AD DA AA AD DD DA AC CD DA AA AD DD DD DD DA AA AC CA AD DA AD DA AD DA AD DA AA AD DA AA AA AA AC CD DD DD DA AD DD DA AD DA AA AD DD DA AD DA AA AA AA AA AD DD DD DA AA AA AD DD DD DD DD DD DA AD DD DA AT TA AA AA AA AA AD DA AA AA AA AC CA AA AA AT TT TA AA AA AA AA AD DD DA AC CA AC CC CA AC CA AC CT TD DC CA AD DC CC CD DC CC CA AC CA AC CD DC CC CC CA AA AA AA AC CC CA AA AA AD DA AA AC CA AA AA AA AA AA AC CC CC CA AA AA AA AA AA AC CA AA AA AD DA AD DA AA AA AA AA AA AA AA AD DA AD DD DA AD DC CD DA AD DD DD DD DA AA AA AD DD DD DA AD DD DA AD DA AD DA AD DA AD DA AA AA AA AD DD DD DA AA AD DC CC CA AD DC CD DC CA AA AD DC CA AA AA AA AD DC CC CD DA AD DD DD DD DA AA AA AA AA AA AD DA AA AD DA AD DA AA AD DD DA AD DD DA AA AA AA AA AD DD DD DD DA AA AA AD DA AD DA AA AD DD DD DA AA AA AA AA AA AD DD DD DD DD DC CA AA AA AA AC CA AA AD DA AD DA AC CA AD DD DD DA AD DA AD DD DD DA AD DA AD DD DA AD DA AA AC CA AA AC CA AA AA AC CA AC CA AD DD DD DC CA AC CA AC CA AA AD DD DD DA AD DD DC CA AA AC CA AD DA AD DA AA AA AA AD DA AD DA AA AA AA AA AA AA AD DD DA AD DA AD DA AA AA AA AD DA AA AA AA AA AD DA AA AA AA AA AA AA AA AA AD DA AC CA AD DA AD DA AA AA AA AA AA AA AA AA AA AA AA AA AA AD DA AA AA AA AD DA AA AA AD DA AD DA AD DA AA AA AD DD DA AA AA AD DA AA AA AA AA AA AA AD DA AA AD DA AA AD DD DA AA AA AA AD DD DA AA AA AA AA AA AA AA AA AD DA AA AA AA AA AA AD DA AA AA AA AA AD DD DA AA AA AD DA AA AA AA AA AA AD DD DA AA AD DA AD DA AA AD DA AA AA AA AA AA AA AA AA AA AA AD DA AA AD DA AA AA AA AD DD DA AA AA AD DA AA AD DA AA AA AA AA AA AA AA AA AA AA AA AA AA AA AA AA AA AD DA AD DA AA AD DD DD DA AA AA AA AD DD DA AA AD DD DA AA AA AA AD DA AA AA AA AD DA AA AA AA AD DA AA AA AA AD DA AA AA AA AD DA AA AA AA AA AA AA AD DA AD DD DD DD DD DA AA AD DD DA AD DA AA AA AD DA AA AA AD DA AA AD DD DA AA AA AD DD DA AA AD DA AA AA AA AA AA AA AA AD DD DA AA AA AA AD DA AA AD DD DA AA AA AA AA AA AA AA AD DD DD DD DA AD DD DA AD DA AD DD DD DA AA AD DA AA AA AD DD DA AD DA AA AA AA AA AA AA AA AD DC CA AD DD DA AD DD DD DD DD DA AA AA AD DA AA AD DA AD DA AA AD DA AA AA AD DD DD DD DA AA AD DA AD DD DA AA AD DD DD DD DD DC CA AA AA AD DA AD DA AD DD DA AA AD DD DA AA AA AA AA AA AA AA AA AA AA AA AA AD DD DD DA AD DA AD DD DA AD DD DD DD DA AD DA AD DD DD DA AD DA AA AA AA AA AA AD DA AA AD DA AA AA AD DA AD DA AA AA AD DA AA AC CD DA AD DA AA AA AA AA AA AD DA AA AA AA AA AD DD DA AA AA AD DD DA AA AA AD DA AD DA AD DA AA AA AA AA AA AA AA AA AD DA AA AA AA AA AA AA AA AD DD DD DD DA AD DD DA AA AD DC CA AA AD DA AD DD DA AA AA AA AA AA AA AA AD DD DA AA AA AA AD'"
      ]
     },
     "execution_count": 11,
     "metadata": {},
     "output_type": "execute_result"
    }
   ],
   "source": [
    "\" \".join(bot_df['output'].tolist()[0])"
   ]
  },
  {
   "cell_type": "code",
   "execution_count": 12,
   "id": "ba25f73b",
   "metadata": {},
   "outputs": [],
   "source": [
    "from sklearn.feature_extraction.text import TfidfVectorizer\n",
    "# word level tf-idf\n",
    "tfidf_vect = TfidfVectorizer(analyzer='word', token_pattern=r'\\w{1,}', max_features=5000)\n",
    "tfidf_vect.fit(corpus)\n",
    "xtrain_tfidf =  tfidf_vect.transform(corpus)\n",
    "# xvalid_tfidf =  tfidf_vect.transform(corpus)"
   ]
  },
  {
   "cell_type": "code",
   "execution_count": 13,
   "id": "5709bbe0",
   "metadata": {},
   "outputs": [],
   "source": [
    "from sklearn.feature_extraction.text import TfidfVectorizer\n",
    "# word level tf-idf\n",
    "tfidf_vect1 = TfidfVectorizer(analyzer='word', token_pattern=r'\\w{1,}', max_features=5000)\n",
    "tfidf_vect1.fit(corpus1)\n",
    "xtrain_tfidf1 =  tfidf_vect1.transform(corpus1)\n",
    "# xvalid_tfidf1 =  tfidf_vect1.transform(corpus)"
   ]
  },
  {
   "cell_type": "code",
   "execution_count": 14,
   "id": "e3766659",
   "metadata": {},
   "outputs": [
    {
     "data": {
      "text/plain": [
       "<429x16 sparse matrix of type '<class 'numpy.float64'>'\n",
       "\twith 6307 stored elements in Compressed Sparse Row format>"
      ]
     },
     "execution_count": 14,
     "metadata": {},
     "output_type": "execute_result"
    }
   ],
   "source": [
    "xtrain_tfidf"
   ]
  },
  {
   "cell_type": "code",
   "execution_count": 15,
   "id": "23c1afdb",
   "metadata": {},
   "outputs": [
    {
     "data": {
      "text/plain": [
       "<431x16 sparse matrix of type '<class 'numpy.float64'>'\n",
       "\twith 4166 stored elements in Compressed Sparse Row format>"
      ]
     },
     "execution_count": 15,
     "metadata": {},
     "output_type": "execute_result"
    }
   ],
   "source": [
    "xtrain_tfidf1"
   ]
  },
  {
   "cell_type": "code",
   "execution_count": 16,
   "id": "a0db2070",
   "metadata": {},
   "outputs": [
    {
     "data": {
      "text/plain": [
       "matrix([[0.57472295, 0.13187562, 0.23034617, ..., 0.        , 0.        ,\n",
       "         0.        ],\n",
       "        [0.12405271, 0.1615858 , 0.20984176, ..., 0.0244903 , 0.03418311,\n",
       "         0.01763962],\n",
       "        [0.24291959, 0.04925248, 0.26017496, ..., 0.00460126, 0.01648984,\n",
       "         0.48938944],\n",
       "        ...,\n",
       "        [0.07742109, 0.15234097, 0.16061831, ..., 0.02218609, 0.02365278,\n",
       "         0.00694781],\n",
       "        [0.15375968, 0.17100761, 0.20153636, ..., 0.02998546, 0.01413958,\n",
       "         0.        ],\n",
       "        [0.        , 0.        , 0.        , ..., 0.00839837, 0.29701763,\n",
       "         0.74173399]])"
      ]
     },
     "execution_count": 16,
     "metadata": {},
     "output_type": "execute_result"
    }
   ],
   "source": [
    "xtrain_tfidf.todense()"
   ]
  },
  {
   "cell_type": "code",
   "execution_count": 17,
   "id": "8b5a118e",
   "metadata": {},
   "outputs": [
    {
     "data": {
      "text/plain": [
       "matrix([[0.91138492, 0.07336707, 0.2613381 , ..., 0.00405641, 0.00912726,\n",
       "         0.00972053],\n",
       "        [0.03090421, 0.        , 0.05180468, ..., 0.        , 0.00253887,\n",
       "         0.        ],\n",
       "        [0.87450811, 0.22471943, 0.23425449, ..., 0.        , 0.        ,\n",
       "         0.        ],\n",
       "        ...,\n",
       "        [0.02800763, 0.        , 0.11936405, ..., 0.        , 0.        ,\n",
       "         0.        ],\n",
       "        [0.        , 0.        , 0.        , ..., 0.        , 0.00866242,\n",
       "         0.00441851],\n",
       "        [0.17072497, 0.31054353, 0.10700036, ..., 0.00705096, 0.00244081,\n",
       "         0.        ]])"
      ]
     },
     "execution_count": 17,
     "metadata": {},
     "output_type": "execute_result"
    }
   ],
   "source": [
    "xtrain_tfidf1.todense()"
   ]
  },
  {
   "cell_type": "code",
   "execution_count": 18,
   "id": "db831267",
   "metadata": {},
   "outputs": [
    {
     "name": "stdout",
     "output_type": "stream",
     "text": [
      "{'aa': 5.966769848959407, 'ac': 6.022679454281306, 'ad': 6.053774315510756, 'at': 5.294240756080089, 'ca': 6.015361298424459, 'cc': 6.048531097379113, 'cd': 6.061456918928016, 'ct': 5.476927068777499, 'da': 6.05822546354079, 'dc': 6.061456918928016, 'dd': 6.061456918928016, 'dt': 5.695531222033141, 'ta': 5.104607932697171, 'tc': 5.441017484580653, 'td': 5.728405860188957, 'tt': 4.448799718076497}\n"
     ]
    }
   ],
   "source": [
    "from sklearn.feature_selection import mutual_info_classif\n",
    "from sklearn.feature_extraction.text import CountVectorizer\n",
    "\n",
    "res = dict(zip(tfidf_vect.get_feature_names(),\n",
    "               mutual_info_classif(xtrain_tfidf, corpus, discrete_features=True)\n",
    "               ))\n",
    "print(res)"
   ]
  },
  {
   "cell_type": "code",
   "execution_count": 19,
   "id": "3bb06373",
   "metadata": {},
   "outputs": [
    {
     "name": "stdout",
     "output_type": "stream",
     "text": [
      "{'aa': 4.697210835938911, 'ac': 3.635197170458775, 'ad': 5.398805148426943, 'at': 2.817041728483149, 'ca': 3.55073456066068, 'cc': 3.971885814611695, 'cd': 4.867127748065755, 'ct': 2.361785650546839, 'da': 5.36574287120572, 'dc': 4.867127748065755, 'dd': 5.87294759834922, 'dt': 4.1486513176461655, 'ta': 2.677111355816178, 'tc': 2.2382411640971807, 'td': 4.16275408406168, 'tt': 2.435518018132768}\n"
     ]
    }
   ],
   "source": [
    "from sklearn.feature_selection import mutual_info_classif\n",
    "from sklearn.feature_extraction.text import CountVectorizer\n",
    "\n",
    "res1 = dict(zip(tfidf_vect1.get_feature_names(),\n",
    "               mutual_info_classif(xtrain_tfidf1, corpus1, discrete_features=True)\n",
    "               ))\n",
    "print(res1)"
   ]
  },
  {
   "cell_type": "code",
   "execution_count": 20,
   "id": "67e58715",
   "metadata": {},
   "outputs": [],
   "source": [
    "HF = tfidf_vect.get_feature_names()"
   ]
  },
  {
   "cell_type": "code",
   "execution_count": 21,
   "id": "446aae5e",
   "metadata": {},
   "outputs": [
    {
     "data": {
      "text/plain": [
       "['aa',\n",
       " 'ac',\n",
       " 'ad',\n",
       " 'at',\n",
       " 'ca',\n",
       " 'cc',\n",
       " 'cd',\n",
       " 'ct',\n",
       " 'da',\n",
       " 'dc',\n",
       " 'dd',\n",
       " 'dt',\n",
       " 'ta',\n",
       " 'tc',\n",
       " 'td',\n",
       " 'tt']"
      ]
     },
     "execution_count": 21,
     "metadata": {},
     "output_type": "execute_result"
    }
   ],
   "source": [
    "HF"
   ]
  },
  {
   "cell_type": "code",
   "execution_count": 22,
   "id": "48b0b937",
   "metadata": {},
   "outputs": [],
   "source": [
    "Human = mutual_info_classif(xtrain_tfidf,corpus)"
   ]
  },
  {
   "cell_type": "code",
   "execution_count": 23,
   "id": "f8fb3d1a",
   "metadata": {},
   "outputs": [
    {
     "data": {
      "text/plain": [
       "array([5.96676985, 6.02267945, 6.05377432, 5.29424076, 6.0153613 ,\n",
       "       6.0485311 , 6.06145692, 5.47692707, 6.05822546, 6.06145692,\n",
       "       6.06145692, 5.69553122, 5.10460793, 5.44101748, 5.72840586,\n",
       "       4.44879972])"
      ]
     },
     "execution_count": 23,
     "metadata": {},
     "output_type": "execute_result"
    }
   ],
   "source": [
    "Human"
   ]
  },
  {
   "cell_type": "code",
   "execution_count": 24,
   "id": "c60f885d",
   "metadata": {},
   "outputs": [],
   "source": [
    "BF = tfidf_vect.get_feature_names()"
   ]
  },
  {
   "cell_type": "code",
   "execution_count": 25,
   "id": "438998cf",
   "metadata": {},
   "outputs": [
    {
     "data": {
      "text/plain": [
       "['aa',\n",
       " 'ac',\n",
       " 'ad',\n",
       " 'at',\n",
       " 'ca',\n",
       " 'cc',\n",
       " 'cd',\n",
       " 'ct',\n",
       " 'da',\n",
       " 'dc',\n",
       " 'dd',\n",
       " 'dt',\n",
       " 'ta',\n",
       " 'tc',\n",
       " 'td',\n",
       " 'tt']"
      ]
     },
     "execution_count": 25,
     "metadata": {},
     "output_type": "execute_result"
    }
   ],
   "source": [
    "BF"
   ]
  },
  {
   "cell_type": "code",
   "execution_count": 26,
   "id": "aa957194",
   "metadata": {},
   "outputs": [],
   "source": [
    "Bot = mutual_info_classif(xtrain_tfidf1,corpus1)"
   ]
  },
  {
   "cell_type": "code",
   "execution_count": 27,
   "id": "814cb3af",
   "metadata": {},
   "outputs": [
    {
     "data": {
      "text/plain": [
       "array([4.69721084, 3.63519717, 5.39880515, 2.81704173, 3.55073456,\n",
       "       3.97188581, 4.86712775, 2.36178565, 5.36574287, 4.86712775,\n",
       "       5.8729476 , 4.14865132, 2.67711136, 2.23824116, 4.16275408,\n",
       "       2.43551802])"
      ]
     },
     "execution_count": 27,
     "metadata": {},
     "output_type": "execute_result"
    }
   ],
   "source": [
    "Bot"
   ]
  },
  {
   "cell_type": "code",
   "execution_count": 28,
   "id": "d961bdfe",
   "metadata": {},
   "outputs": [
    {
     "data": {
      "image/png": "[encoded data removed]",
      "text/plain": [
       "<Figure size 432x288 with 1 Axes>"
      ]
     },
     "metadata": {
      "needs_background": "light"
     },
     "output_type": "display_data"
    },
    {
     "data": {
      "text/plain": [
       "<Figure size 7200x7200 with 0 Axes>"
      ]
     },
     "metadata": {},
     "output_type": "display_data"
    }
   ],
   "source": [
    "import matplotlib.pyplot as plt\n",
    "\n",
    "x = Bot\n",
    "y = BF\n",
    "\n",
    "plt.scatter(x, y, s=30, color=\"Red\")\n",
    "\n",
    "x = Human\n",
    "y = HF\n",
    "\n",
    "plt.scatter(x, y, s=20, color=\"Green\")\n",
    "\n",
    "plt.xlim(0, 6)\n",
    "\n",
    "plt.title(\"BorderLine Bots Prediction\")\n",
    "plt.xlabel(\"Information Gain\")\n",
    "plt.ylabel(\"Features\")\n",
    "plt.figure(figsize=(100,100))\n",
    "plt.show()"
   ]
  },
  {
   "cell_type": "code",
   "execution_count": 29,
   "id": "1624e3dd",
   "metadata": {},
   "outputs": [
    {
     "data": {
      "image/png": "[encoded data removed]",
      "text/plain": [
       "<Figure size 720x432 with 3 Axes>"
      ]
     },
     "metadata": {
      "needs_background": "light"
     },
     "output_type": "display_data"
    }
   ],
   "source": [
    "import matplotlib.pyplot as plt\n",
    "import pandas as pd\n",
    "\n",
    "fig, ax = plt.subplots(3, figsize=(10, 6))\n",
    "\n",
    "ax[0].scatter(x = Bot, y = BF, s=30, color=\"Red\")\n",
    "ax[0].set_title(\"BorderLine Bots Prediction\")\n",
    "ax[0].set_xlim(0,2)\n",
    "ax[0].set_xlabel(\"Information Gain\")\n",
    "ax[0].set_ylabel(\"Features\")\n",
    "\n",
    "ax[1].scatter(x = Bot, y = BF, s=30, color=\"Red\")\n",
    "ax[1].set_xlim(2,6)\n",
    "ax[1].set_xlabel(\"Information Gain\")\n",
    "ax[1].set_ylabel(\"Features\")\n",
    "\n",
    "ax[2].scatter(x = Human, y = HF, s=20, color=\"Green\")\n",
    "ax[2].set_xlim(0,6)\n",
    "ax[2].set_xlabel(\"Information Gain\")\n",
    "ax[2].set_ylabel(\"Features\")\n",
    "\n",
    "plt.show()"
   ]
  },
  {
   "cell_type": "code",
   "execution_count": null,
   "id": "4ceb355f",
   "metadata": {},
   "outputs": [],
   "source": []
  }
 ],
 "metadata": {
  "kernelspec": {
   "display_name": "Python 3",
   "language": "python",
   "name": "python3"
  },
  "language_info": {
   "codemirror_mode": {
    "name": "ipython",
    "version": 3
   },
   "file_extension": ".py",
   "mimetype": "text/x-python",
   "name": "python",
   "nbconvert_exporter": "python",
   "pygments_lexer": "ipython3",
   "version": "3.8.8"
  }
 },
 "nbformat": 4,
 "nbformat_minor": 5
}
