{
 "cells": [
  {
   "cell_type": "code",
   "execution_count": 1,
   "id": "393b5399",
   "metadata": {},
   "outputs": [],
   "source": [
    "import os\n",
    "import glob\n",
    "import pandas as pd\n",
    "import numpy as np\n",
    "import warnings\n",
    "warnings.filterwarnings('ignore')"
   ]
  },
  {
   "cell_type": "code",
   "execution_count": 2,
   "id": "6a25b5c5",
   "metadata": {},
   "outputs": [],
   "source": [
    "def fn(data_df):\n",
    "    a = data_df[\"Modal\"].tolist()\n",
    "#     file_name = filename\n",
    "    em = []\n",
    "    for i in range(0,len(a),1):\n",
    "#         print(a[i:i+3] , len(a[i:i+3]))\n",
    "        if len(a[i:i+3]) >=3 :\n",
    "            em.append(\"\".join(a[i:i+3]))\n",
    "    return em"
   ]
  },
  {
   "cell_type": "code",
   "execution_count": 3,
   "id": "2fffd09d",
   "metadata": {},
   "outputs": [],
   "source": [
    "path= r'E:\\Mini Project\\Data Set\\HUMAN'\n",
    "all_files = glob.glob(path + \"/*.csv\")\n",
    "li = []\n",
    "t_df = pd.DataFrame()\n",
    "full_df = pd.DataFrame()\n",
    "for filename in all_files:\n",
    "#     df = pd.DataFrame()\n",
    "    df = pd.read_csv(filename, index_col=None, header=0)\n",
    "    \n",
    "    t_df[\"filename\"] = [filename]\n",
    "    t_df[\"output\"] = [fn(df)]\n",
    "    \n",
    "    full_df = full_df.append(t_df,ignore_index=False)\n",
    "    \n",
    "    #li.append(df)\n",
    "    \n",
    "\n",
    "# frame = pd.concat(li, axis=0, ignore_index=True)\n"
   ]
  },
  {
   "cell_type": "code",
   "execution_count": 4,
   "id": "d43295c3",
   "metadata": {},
   "outputs": [],
   "source": [
    "path= r'E:\\Mini Project\\Data Set\\BOT'\n",
    "all_files = glob.glob(path + \"/*.csv\")\n",
    "li = []\n",
    "t_df = pd.DataFrame()\n",
    "bot_df = pd.DataFrame()\n",
    "for filename in all_files:\n",
    "#     df = pd.DataFrame()\n",
    "    df = pd.read_csv(filename, index_col=None, header=0)\n",
    "    \n",
    "    t_df[\"filename\"] = [filename]\n",
    "    t_df[\"output\"] = [fn(df)]\n",
    "    \n",
    "    bot_df = bot_df.append(t_df,ignore_index=False)\n",
    "    \n",
    "    #li.append(df)\n",
    "    \n",
    "\n",
    "# frame = pd.concat(li, axis=0, ignore_index=True)\n"
   ]
  },
  {
   "cell_type": "code",
   "execution_count": 5,
   "id": "e6b2e440",
   "metadata": {},
   "outputs": [],
   "source": [
    "def fn(data_df):\n",
    "    a = data_df[\"Modal\"].tolist()\n",
    "#     file_name = filename\n",
    "    em = []\n",
    "    for i in range(0,len(a),1):\n",
    "#         print(a[i:i+3] , len(a[i:i+3]))\n",
    "        if len(a[i:i+3]) >=3 :\n",
    "            em.append(\"\".join(a[i:i+3]))\n",
    "    return em"
   ]
  },
  {
   "cell_type": "code",
   "execution_count": 6,
   "id": "91fd42df",
   "metadata": {},
   "outputs": [
    {
     "data": {
      "text/html": [
       "<div>\n",
       "<style scoped>\n",
       "    .dataframe tbody tr th:only-of-type {\n",
       "        vertical-align: middle;\n",
       "    }\n",
       "\n",
       "    .dataframe tbody tr th {\n",
       "        vertical-align: top;\n",
       "    }\n",
       "\n",
       "    .dataframe thead th {\n",
       "        text-align: right;\n",
       "    }\n",
       "</style>\n",
       "<table border=\"1\" class=\"dataframe\">\n",
       "  <thead>\n",
       "    <tr style=\"text-align: right;\">\n",
       "      <th></th>\n",
       "      <th>filename</th>\n",
       "      <th>output</th>\n",
       "    </tr>\n",
       "  </thead>\n",
       "  <tbody>\n",
       "    <tr>\n",
       "      <th>0</th>\n",
       "      <td>E:\\Mini Project\\Data Set\\BOT\\bot1(1).csv</td>\n",
       "      <td>[ADD, DDA, DAD, ADD, DDD, DDD, DDA, DAA, AAD, ...</td>\n",
       "    </tr>\n",
       "    <tr>\n",
       "      <th>0</th>\n",
       "      <td>E:\\Mini Project\\Data Set\\BOT\\bot1.csv</td>\n",
       "      <td>[DDD, DDD, DDD, DDD, DDD, DDD, DDD, DDD, DDD, ...</td>\n",
       "    </tr>\n",
       "    <tr>\n",
       "      <th>0</th>\n",
       "      <td>E:\\Mini Project\\Data Set\\BOT\\bot10(1).csv</td>\n",
       "      <td>[CCA, CAA, AAA, AAD, ADD, DDA, DAA, AAC, ACA, ...</td>\n",
       "    </tr>\n",
       "    <tr>\n",
       "      <th>0</th>\n",
       "      <td>E:\\Mini Project\\Data Set\\BOT\\bot10.csv</td>\n",
       "      <td>[AAA, AAD, ADA, DAA, AAA, AAA, AAA, AAA, AAD, ...</td>\n",
       "    </tr>\n",
       "    <tr>\n",
       "      <th>0</th>\n",
       "      <td>E:\\Mini Project\\Data Set\\BOT\\bot100.csv</td>\n",
       "      <td>[CAA, AAD, ADA, DAA, AAA, AAA, AAA, AAD, ADA, ...</td>\n",
       "    </tr>\n",
       "    <tr>\n",
       "      <th>...</th>\n",
       "      <td>...</td>\n",
       "      <td>...</td>\n",
       "    </tr>\n",
       "    <tr>\n",
       "      <th>0</th>\n",
       "      <td>E:\\Mini Project\\Data Set\\BOT\\bot9_2.csv</td>\n",
       "      <td>[DDD, DDD, DDD, DDD, DDD, DDD, DDD, DDD, DDD, ...</td>\n",
       "    </tr>\n",
       "    <tr>\n",
       "      <th>0</th>\n",
       "      <td>E:\\Mini Project\\Data Set\\BOT\\bot9_3.csv</td>\n",
       "      <td>[DDD, DDD, DDD, DDC, DCD, CDD, DDC, DCD, CDD, ...</td>\n",
       "    </tr>\n",
       "    <tr>\n",
       "      <th>0</th>\n",
       "      <td>E:\\Mini Project\\Data Set\\BOT\\bot9_4.csv</td>\n",
       "      <td>[DDD, DDD, DDD, DDD, DDD, DDD, DDD, DDD, DDD, ...</td>\n",
       "    </tr>\n",
       "    <tr>\n",
       "      <th>0</th>\n",
       "      <td>E:\\Mini Project\\Data Set\\BOT\\bot9_5.csv</td>\n",
       "      <td>[DDD, DDD, DDD, DDD, DDD, DDD, DDD, DDD, DDD, ...</td>\n",
       "    </tr>\n",
       "    <tr>\n",
       "      <th>0</th>\n",
       "      <td>E:\\Mini Project\\Data Set\\BOT\\bot9_6.csv</td>\n",
       "      <td>[CCC, CCA, CAC, ACC, CCA, CAC, ACC, CCD, CDD, ...</td>\n",
       "    </tr>\n",
       "  </tbody>\n",
       "</table>\n",
       "<p>431 rows × 2 columns</p>\n",
       "</div>"
      ],
      "text/plain": [
       "                                     filename  \\\n",
       "0    E:\\Mini Project\\Data Set\\BOT\\bot1(1).csv   \n",
       "0       E:\\Mini Project\\Data Set\\BOT\\bot1.csv   \n",
       "0   E:\\Mini Project\\Data Set\\BOT\\bot10(1).csv   \n",
       "0      E:\\Mini Project\\Data Set\\BOT\\bot10.csv   \n",
       "0     E:\\Mini Project\\Data Set\\BOT\\bot100.csv   \n",
       "..                                        ...   \n",
       "0     E:\\Mini Project\\Data Set\\BOT\\bot9_2.csv   \n",
       "0     E:\\Mini Project\\Data Set\\BOT\\bot9_3.csv   \n",
       "0     E:\\Mini Project\\Data Set\\BOT\\bot9_4.csv   \n",
       "0     E:\\Mini Project\\Data Set\\BOT\\bot9_5.csv   \n",
       "0     E:\\Mini Project\\Data Set\\BOT\\bot9_6.csv   \n",
       "\n",
       "                                               output  \n",
       "0   [ADD, DDA, DAD, ADD, DDD, DDD, DDA, DAA, AAD, ...  \n",
       "0   [DDD, DDD, DDD, DDD, DDD, DDD, DDD, DDD, DDD, ...  \n",
       "0   [CCA, CAA, AAA, AAD, ADD, DDA, DAA, AAC, ACA, ...  \n",
       "0   [AAA, AAD, ADA, DAA, AAA, AAA, AAA, AAA, AAD, ...  \n",
       "0   [CAA, AAD, ADA, DAA, AAA, AAA, AAA, AAD, ADA, ...  \n",
       "..                                                ...  \n",
       "0   [DDD, DDD, DDD, DDD, DDD, DDD, DDD, DDD, DDD, ...  \n",
       "0   [DDD, DDD, DDD, DDC, DCD, CDD, DDC, DCD, CDD, ...  \n",
       "0   [DDD, DDD, DDD, DDD, DDD, DDD, DDD, DDD, DDD, ...  \n",
       "0   [DDD, DDD, DDD, DDD, DDD, DDD, DDD, DDD, DDD, ...  \n",
       "0   [CCC, CCA, CAC, ACC, CCA, CAC, ACC, CCD, CDD, ...  \n",
       "\n",
       "[431 rows x 2 columns]"
      ]
     },
     "execution_count": 6,
     "metadata": {},
     "output_type": "execute_result"
    }
   ],
   "source": [
    "bot_df"
   ]
  },
  {
   "cell_type": "code",
   "execution_count": 7,
   "id": "ee07b8a2",
   "metadata": {},
   "outputs": [
    {
     "data": {
      "text/html": [
       "<div>\n",
       "<style scoped>\n",
       "    .dataframe tbody tr th:only-of-type {\n",
       "        vertical-align: middle;\n",
       "    }\n",
       "\n",
       "    .dataframe tbody tr th {\n",
       "        vertical-align: top;\n",
       "    }\n",
       "\n",
       "    .dataframe thead th {\n",
       "        text-align: right;\n",
       "    }\n",
       "</style>\n",
       "<table border=\"1\" class=\"dataframe\">\n",
       "  <thead>\n",
       "    <tr style=\"text-align: right;\">\n",
       "      <th></th>\n",
       "      <th>filename</th>\n",
       "      <th>output</th>\n",
       "    </tr>\n",
       "  </thead>\n",
       "  <tbody>\n",
       "    <tr>\n",
       "      <th>0</th>\n",
       "      <td>E:\\Mini Project\\Data Set\\HUMAN\\human1.csv</td>\n",
       "      <td>[CDA, DAD, ADC, DCD, CDC, DCD, CDC, DCA, CAC, ...</td>\n",
       "    </tr>\n",
       "    <tr>\n",
       "      <th>0</th>\n",
       "      <td>E:\\Mini Project\\Data Set\\HUMAN\\human10.csv</td>\n",
       "      <td>[ADA, DAD, ADC, DCC, CCC, CCD, CDC, DCD, CDD, ...</td>\n",
       "    </tr>\n",
       "    <tr>\n",
       "      <th>0</th>\n",
       "      <td>E:\\Mini Project\\Data Set\\HUMAN\\human100.csv</td>\n",
       "      <td>[CCC, CCA, CAC, ACC, CCC, CCC, CCD, CDC, DCC, ...</td>\n",
       "    </tr>\n",
       "    <tr>\n",
       "      <th>0</th>\n",
       "      <td>E:\\Mini Project\\Data Set\\HUMAN\\human101.csv</td>\n",
       "      <td>[CCC, CCC, CCD, CDC, DCA, CAC, ACC, CCC, CCC, ...</td>\n",
       "    </tr>\n",
       "    <tr>\n",
       "      <th>0</th>\n",
       "      <td>E:\\Mini Project\\Data Set\\HUMAN\\human102.csv</td>\n",
       "      <td>[DAC, ACA, CAA, AAC, ACD, CDC, DCT, CTT, TTD, ...</td>\n",
       "    </tr>\n",
       "    <tr>\n",
       "      <th>...</th>\n",
       "      <td>...</td>\n",
       "      <td>...</td>\n",
       "    </tr>\n",
       "    <tr>\n",
       "      <th>0</th>\n",
       "      <td>E:\\Mini Project\\Data Set\\HUMAN\\human96.csv</td>\n",
       "      <td>[DDA, DAD, ADD, DDD, DDD, DDD, DDA, DAD, ADC, ...</td>\n",
       "    </tr>\n",
       "    <tr>\n",
       "      <th>0</th>\n",
       "      <td>E:\\Mini Project\\Data Set\\HUMAN\\human98.csv</td>\n",
       "      <td>[ADD, DDA, DAA, AAD, ADA, DAD, ADC, DCA, CAD, ...</td>\n",
       "    </tr>\n",
       "    <tr>\n",
       "      <th>0</th>\n",
       "      <td>E:\\Mini Project\\Data Set\\HUMAN\\human99.csv</td>\n",
       "      <td>[DDC, DCC, CCC, CCC, CCA, CAD, ADD, DDD, DDC, ...</td>\n",
       "    </tr>\n",
       "    <tr>\n",
       "      <th>0</th>\n",
       "      <td>E:\\Mini Project\\Data Set\\HUMAN\\human9_2.csv</td>\n",
       "      <td>[CCC, CCD, CDD, DDC, DCA, CAC, ACC, CCC, CCD, ...</td>\n",
       "    </tr>\n",
       "    <tr>\n",
       "      <th>0</th>\n",
       "      <td>E:\\Mini Project\\Data Set\\HUMAN\\human9_3.csv</td>\n",
       "      <td>[TDC, DCD, CDD, DDD, DDD, DDD, DDC, DCC, CCD, ...</td>\n",
       "    </tr>\n",
       "  </tbody>\n",
       "</table>\n",
       "<p>429 rows × 2 columns</p>\n",
       "</div>"
      ],
      "text/plain": [
       "                                       filename  \\\n",
       "0     E:\\Mini Project\\Data Set\\HUMAN\\human1.csv   \n",
       "0    E:\\Mini Project\\Data Set\\HUMAN\\human10.csv   \n",
       "0   E:\\Mini Project\\Data Set\\HUMAN\\human100.csv   \n",
       "0   E:\\Mini Project\\Data Set\\HUMAN\\human101.csv   \n",
       "0   E:\\Mini Project\\Data Set\\HUMAN\\human102.csv   \n",
       "..                                          ...   \n",
       "0    E:\\Mini Project\\Data Set\\HUMAN\\human96.csv   \n",
       "0    E:\\Mini Project\\Data Set\\HUMAN\\human98.csv   \n",
       "0    E:\\Mini Project\\Data Set\\HUMAN\\human99.csv   \n",
       "0   E:\\Mini Project\\Data Set\\HUMAN\\human9_2.csv   \n",
       "0   E:\\Mini Project\\Data Set\\HUMAN\\human9_3.csv   \n",
       "\n",
       "                                               output  \n",
       "0   [CDA, DAD, ADC, DCD, CDC, DCD, CDC, DCA, CAC, ...  \n",
       "0   [ADA, DAD, ADC, DCC, CCC, CCD, CDC, DCD, CDD, ...  \n",
       "0   [CCC, CCA, CAC, ACC, CCC, CCC, CCD, CDC, DCC, ...  \n",
       "0   [CCC, CCC, CCD, CDC, DCA, CAC, ACC, CCC, CCC, ...  \n",
       "0   [DAC, ACA, CAA, AAC, ACD, CDC, DCT, CTT, TTD, ...  \n",
       "..                                                ...  \n",
       "0   [DDA, DAD, ADD, DDD, DDD, DDD, DDA, DAD, ADC, ...  \n",
       "0   [ADD, DDA, DAA, AAD, ADA, DAD, ADC, DCA, CAD, ...  \n",
       "0   [DDC, DCC, CCC, CCC, CCA, CAD, ADD, DDD, DDC, ...  \n",
       "0   [CCC, CCD, CDD, DDC, DCA, CAC, ACC, CCC, CCD, ...  \n",
       "0   [TDC, DCD, CDD, DDD, DDD, DDD, DDC, DCC, CCD, ...  \n",
       "\n",
       "[429 rows x 2 columns]"
      ]
     },
     "execution_count": 7,
     "metadata": {},
     "output_type": "execute_result"
    }
   ],
   "source": [
    "full_df"
   ]
  },
  {
   "cell_type": "code",
   "execution_count": 8,
   "id": "d0da5279",
   "metadata": {},
   "outputs": [],
   "source": [
    "corpus =list(map(lambda x:\" \".join(x),full_df['output'].tolist()))"
   ]
  },
  {
   "cell_type": "code",
   "execution_count": 9,
   "id": "a3e91c92",
   "metadata": {},
   "outputs": [],
   "source": [
    "corpus1 =list(map(lambda x:\" \".join(x),bot_df['output'].tolist()))"
   ]
  },
  {
   "cell_type": "code",
   "execution_count": 10,
   "id": "c18a4fab",
   "metadata": {},
   "outputs": [
    {
     "data": {
      "text/plain": [
       "'CDA DAD ADC DCD CDC DCD CDC DCA CAC ACD CDD DDC DCD CDD DDA DAD ADA DAD ADC DCD CDD DDC DCC CCD CDC DCC CCD CDD DDC DCC CCC CCD CDC DCC CCC CCC CCC CCA CAD ADD DDA DAD ADC DCD CDC DCD CDD DDC DCC CCA CAC ACD CDC DCC CCD CDD DDD DDD DDD DDC DCC CCC CCA CAD ADD DDC DCD CDD DDC DCD CDC DCC CCC CCC CCC CCC CCD CDC DCD CDC DCD CDD DDD DDC DCD CDD DDD DDD DDD DDC DCD CDD DDD DDD DDC DCC CCC CCC CCD CDC DCC CCC CCC CCC CCD CDC DCD CDC DCD CDD DDD DDC DCD CDC DCC CCC CCA CAC ACC CCC CCD CDD DDD DDD DDC DCD CDC DCD CDD DDC DCC CCC CCC CCC CCD CDD DDC DCC CCD CDA DAA AAA AAD ADA DAC ACC CCA CAD ADC DCC CCD CDA DAC ACD CDC DCD CDC DCC CCD CDA DAD ADD DDC DCC CCD CDD DDD DDA DAA AAD ADD DDC DCC CCC CCC CCC CCC CCC CCC CCC CCD CDC DCA CAA AAD ADD DDC DCD CDC DCD CDD DDC DCD CDC DCC CCA CAD ADD DDD DDD DDC DCD CDC DCC CCD CDD DDD DDC DCC CCC CCC CCA CAC ACC CCA CAA AAD ADC DCD CDC DCD CDC DCD CDC DCD CDC DCC CCC CCD CDD DDD DDD DDD DDD DDD DDD DDD DDC DCC CCD CDC DCC CCC CCC CCD CDC DCD CDD DDC DCC CCD CDA DAC ACC CCD CDD DDD DDC DCC CCC CCC CCC CCC CCD CDD DDC DCA CAC ACC CCC CCC CCC CCC CCC CCA CAC ACA CAC ACC CCD CDD DDC DCD CDA DAD ADD DDD DDD DDC DCD CDA DAC ACC CCD CDC DCD CDD DDA DAC ACC CCC CCD CDC DCC CCC CCC CCD CDC DCC CCC CCD CDC DCD CDD DDD DDC DCD CDC DCD CDD DDC DCD CDA DAA AAC ACD CDD DDD DDC DCC CCC CCC CCD CDC DCC CCA CAD ADC DCC CCC CCD CDD DDD DDD DDC DCC CCA CAD ADD DDD DDD DDD DDC DCD CDD DDD DDC DCC CCC CCC CCC CCC CCC CCD CDC DCA CAC ACD CDD DDC DCD CDC DCC CCC CCD CDC DCC CCD CDC DCC CCC CCC CCD CDD DDC DCC CCD CDD DDD DDD DDD DDC DCC CCC CCD CDD DDA DAC ACC CCA CAC ACC CCD CDC DCC CCC CCD CDD DDD DDD DDD DDD DDD DDC DCC CCC CCC CCD CDC DCC CCC CCD CDD DDD DDC DCC CCD CDA DAC ACD CDC DCC CCC CCC CCD CDD DDD DDC DCA CAD ADC DCD CDC DCA CAD ADC DCC CCC CCC CCC CCC CCC CCC CCC CCD CDD DDC DCA CAD ADC DCC CCC CCD CDC DCA CAA AAA AAA AAC ACD CDD DDA DAA AAA AAD ADD DDA DAD ADC DCC CCD CDC DCC CCA CAD ADD DDD DDD DDC DCC CCC CCD CDA DAC ACA CAC ACD CDC DCC CCC CCA CAD ADA DAA AAD ADA DAA AAD ADA DAD ADA DAA AAA AAC ACD CDA DAA AAD ADC DCA CAA AAD ADD DDC DCD CDD DDA DAA AAD ADA DAA AAA AAC ACD CDC DCC CCC CCA CAD ADA DAD ADA DAA AAD ADA DAA AAD ADD DDC DCD CDD DDC DCD CDC DCD CDD DDD DDD DDD DDD DDA DAA AAA AAD ADA DAA AAC ACD CDC DCA CAC ACA CAA AAA AAC ACC CCC CCC CCC CCD CDC DCD CDC DCD CDD DDA DAA AAA AAA AAD ADD DDA DAD ADD DDA DAC ACC CCD CDD DDD DDD DDD DDD DDD DDD DDC DCD CDA DAA AAC ACA CAC ACD CDD DDA DAA AAA AAD ADA DAA AAA AAA AAA AAA AAA AAC ACD CDA DAC ACC CCA CAA AAA AAA AAD ADA DAD ADD DDC DCD CDC DCD CDA DAA AAA AAA AAD ADA DAC ACA CAC ACA CAA AAA AAD ADD DDD DDD DDA DAA AAD ADD DDD DDA DAC ACA CAC ACC CCD CDC DCC CCC CCD CDC DCC CCC CCA CAD ADD DDD DDD DDD DDD DDA DAD ADD DDD DDC DCA CAA AAD ADD DDA DAC ACC CCD CDA DAD ADD DDD DDA DAA AAC ACC CCA CAC ACA CAA AAA AAD ADA DAA AAC ACA CAC ACD CDC DCA CAA AAD ADA DAA AAA AAD ADA DAA AAD ADA DAA AAA AAA AAA AAD ADA DAA AAD ADC DCC CCA CAD ADA DAD ADA DAA AAA AAA AAD ADC DCC CCA CAA AAA AAA AAA AAA AAC ACA CAD ADA DAA AAA AAA AAA AAA AAA AAA AAA AAC ACD CDC DCA CAC ACA CAD ADA DAC ACA CAD ADA DAA AAA AAA AAD ADA DAA AAD ADA DAA AAC ACA CAA AAA AAD ADA DAA AAD ADA DAD ADA DAD ADA DAA AAC ACA CAD ADC DCD CDA DAA AAD ADA DAD ADD DDC DCC CCA CAA AAA AAA AAD ADA DAD ADA DAA AAA AAA AAD ADD DDA DAA AAD ADA DAD ADD DDD DDA DAD ADA DAD ADA DAA AAA AAA AAA AAA AAA AAA AAA AAD ADD DDC DCA CAA AAA AAD ADA DAA AAC ACA CAA AAD ADD DDA DAA AAD ADD DDC DCA CAA AAA AAA AAD ADA DAD ADA DAA AAA AAA AAA AAA AAA AAA AAA AAA AAA AAD ADA DAA AAA AAA AAA AAA AAD ADD DDD DDA DAA AAA AAA AAA AAD ADA DAA AAA AAA AAA AAD ADA DAA AAD ADD DDA DAD ADA DAA AAA AAA AAA AAD ADA DAA AAC ACA CAA AAD ADD DDD DDD DDA DAA AAA AAA AAA AAA AAA AAD ADA DAD ADA DAD ADD DDD DDA DAC ACC CCA CAA AAA AAC ACD CDC DCD CDT DTA TAA AAD ADC DCD CDA DAA AAC ACA CAD ADC DCA CAC ACA CAC ACD CDD DDA DAD ADD DDA DAA AAA AAA AAC ACC CCD CDD DDA DAA AAD ADC DCC CCA CAD ADD DDD DDD DDD DDD DDD DDD DDC DCC CCD CDA DAA AAC ACC CCD CDD DDD DDD DDD DDC DCD CDD DDA DAC ACA CAA AAA AAA AAA AAA AAD ADA DAA AAA AAA AAA AAD ADA DAA AAD ADD DDD DDA DAA AAA AAA AAA AAA AAA AAA AAA AAA AAA AAA AAA AAA AAA AAA AAA AAA AAA AAA AAA AAA AAA AAA AAA AAA AAA AAA AAA AAA AAA AAA AAD ADA DAA AAA AAA AAA AAA AAA AAA AAA AAA AAA AAD ADA DAA AAA AAA AAD ADD DDA DAA AAA AAA AAD ADD DDA DAA AAA AAT ATA TAA AAA AAA AAA AAA AAA AAA AAA AAA AAA AAA AAA AAA AAA AAA AAA AAA AAA AAA AAA AAD ADT DTA TAA AAA AAA AAA AAA AAD ADA DAD ADA DAA AAA AAA AAA AAA AAA AAD ADA DAA AAA AAD ADA DAA AAA AAA AAA AAA AAA AAA AAA AAA AAA AAA AAA AAA AAA AAA AAA AAA AAA AAA AAD ADA DAA AAA AAA AAD ADA DAA AAA AAA AAA AAA AAA AAA AAD ADA DAC ACA CAA AAA AAA AAA AAA AAA AAA AAA AAA AAD ADA DAA AAA AAA AAA AAA AAA AAD ADD DDA DAD ADA DAA AAA AAA AAA AAA AAA AAA AAA AAA AAA AAD ADA DAA AAD ADA DAA AAD ADA DAA AAA AAA AAC ACC CCD CDC DCD CDD DDA DAC ACA CAD ADC DCD CDD DDC DCD CDC DCA CAC ACC CCC CCA CAC ACD CDA DAA AAC ACA CAC ACA CAA AAA AAC ACA CAD ADA DAA AAC ACC CCC CCD CDC DCD CDC DCD CDC DCA CAD ADD DDA DAA AAC ACC CCC CCD CDD DDD DDD DDC DCD CDC DCC CCD CDC DCD CDA DAD ADC DCD CDD DDD DDC DCC CCC CCD CDC DCA CAD ADC DCC CCC CCD CDD DDC DCD CDC DCC CCC CCD CDC DCD CDC DCD CDA DAC ACC CCD CDC DCD CDC DCD CDC DCD CDA DAC ACC CCD CDA DAD ADC DCC CCC CCC CCD CDC DCC CCC CCD CDD DDA DAA AAD ADC DCD CDD DDD DDD DDD DDD DDD DDA DAD ADC DCD CDD DDD DDD DDC DCD CDD DDC DCD CDD DDC DCD CDD DDD DDC DCC CCD CDD DDC DCC CCC CCD CDD DDC DCD CDD DDD DDC DCC CCC CCC CCD CDC DCC CCC CCD CDC DCD CDA DAD ADC DCD CDC DCC CCC CCC CCD CDC DCD CDD DDD DDC DCA CAC ACC CCD CDC DCC CCC CCD CDD DDC DCC CCA CAC ACC CCC CCD CDC DCC CCD CDD DDC DCD CDD DDD DDD DDC DCC CCC CCC CCD CDC DCC CCC CCC CCC CCC CCC CCD CDC DCC CCC CCC CCC CCC CCD CDD DDA DAC ACC CCC CCD CDD DDD DDC DCD CDC DCD CDA DAD ADC DCC CCD CDD DDC DCD CDC DCC CCC CCC CCD CDD DDD DDC DCC CCA CAC ACA CAC ACC CCC CCC CCC CCA CAD ADC DCD CDC DCC CCC CCC CCD CDC DCA CAD ADC DCD CDC DCD CDD DDD DDD DDD DDD DDD DDD DDD DDC DCA CAC ACC CCC CCC CCC CCD CDD DDC DCD CDC DCD CDD DDD DDD DDD DDD DDC DCD CDD DDC DCC CCD CDD DDD DDD DDD'"
      ]
     },
     "execution_count": 10,
     "metadata": {},
     "output_type": "execute_result"
    }
   ],
   "source": [
    "\" \".join(full_df['output'].tolist()[0])"
   ]
  },
  {
   "cell_type": "code",
   "execution_count": 11,
   "id": "83c7a2f7",
   "metadata": {},
   "outputs": [
    {
     "data": {
      "text/plain": [
       "'ADD DDA DAD ADD DDD DDD DDA DAA AAD ADA DAA AAA AAA AAA AAA AAA AAA AAA AAA AAA AAA AAA AAD ADD DDD DDA DAD ADA DAA AAA AAA AAA AAD ADA DAA AAA AAD ADD DDA DAA AAA AAA AAA AAA AAA AAA AAD ADD DDA DAA AAD ADD DDD DDD DDA DAD ADA DAA AAA AAD ADA DAA AAA AAD ADA DAD ADA DAA AAA AAA AAD ADA DAA AAA AAD ADD DDA DAA AAD ADD DDD DDA DAA AAA AAA AAD ADA DAA AAA AAD ADA DAA AAD ADA DAA AAA AAD ADA DAC ACA CAA AAA AAA AAA AAA AAC ACA CAA AAA AAD ADD DDA DAC ACD CDD DDA DAA AAD ADA DAA AAD ADA DAA AAA AAA AAA AAA AAA AAA AAA AAD ADA DAD ADA DAA AAD ADA DAA AAA AAA AAA AAA AAD ADA DAD ADA DAA AAA AAA AAD ADA DAA AAD ADA DAA AAD ADD DDA DAD ADD DDA DAA AAA AAA AAD ADA DAA AAA AAA AAD ADA DAA AAA AAD ADA DAA AAD ADA DAD ADA DAA AAA AAA AAA AAA AAA AAA AAD ADA DAD ADA DAA AAA AAD ADA DAA AAD ADD DDA DAA AAA AAA AAA AAD ADA DAA AAA AAA AAA AAA AAD ADA DAC ACA CAA AAA AAA AAA AAA AAA AAA AAA AAA AAA AAA AAA AAA AAA AAA AAA AAA AAA AAA AAA AAA AAA AAA AAD ADA DAA AAA AAA AAA AAA AAA AAA AAA AAA AAA AAA AAA AAA AAA AAA AAA AAA AAA AAC ACA CAA AAA AAD ADD DDA DAA AAA AAA AAA AAA AAA AAA AAA AAD ADA DAA AAC ACA CAA AAA AAA AAD ADA DAA AAA AAA AAA AAA AAA AAD ADA DAA AAA AAA AAA AAD ADA DAA AAA AAD ADA DAA AAD ADA DAA AAA AAA AAD ADA DAA AAA AAA AAA AAA AAA AAA AAA AAA AAA AAA AAD ADA DAA AAA AAA AAA AAA AAA AAA AAA AAA AAA AAA AAA AAA AAA AAA AAA AAA AAA AAA AAA AAA AAA AAA AAA AAA AAD ADA DAA AAA AAA AAA AAA AAA AAD ADA DAA AAA AAA AAA AAD ADD DDA DAA AAA AAD ADA DAA AAD ADA DAA AAA AAA AAA AAA AAD ADA DAA AAA AAA AAA AAA AAA AAD ADA DAA AAC ACA CAD ADA DAD ADD DDA DAD ADA DAA AAA AAA AAD ADD DDD DDA DAA AAA AAA AAA AAA AAD ADA DAD ADA DAA AAD ADA DAA AAA AAA AAD ADD DDA DAD ADD DDA DAA AAA AAA AAA AAA AAD ADD DDT DTA TAD ADD DDA DAA AAA AAA AAA AAA AAA AAA AAA AAD ADA DAA AAA AAA AAA AAA AAA AAA AAA AAA AAA AAA AAA AAA AAA AAA AAA AAA AAA AAA AAA AAA AAA AAA AAA AAA AAA AAA AAD ADA DAD ADA DAA AAA AAA AAA AAA AAA AAA AAA AAA AAA AAA AAA AAA AAA AAA AAA AAC ACA CAA AAC ACD CDD DDA DAC ACA CAA AAD ADD DDA DAD ADD DDD DDD DDD DDD DDA DAC ACA CAA AAA AAA AAA AAD ADA DAA AAA AAA AAA AAA AAA AAD ADA DAA AAA AAA AAA AAA AAA AAA AAA AAA AAT ATT TTA TAD ADC DCA CAD ADD DDT DTT TTD TDT DTT TTT TTD TDD DDT DTD TDD DDA DAA AAC ACT CTD TDC DCD CDD DDD DDA DAD ADA DAA AAA AAA AAA AAA AAD ADA DAA AAA AAD ADA DAA AAA AAA AAA AAA AAA AAA AAA AAA AAA AAA AAA AAA AAA AAA AAA AAA AAA AAD ADA DAA AAA AAA AAA AAA AAA AAA AAA AAA AAA AAA AAD ADA DAA AAA AAA AAA AAA AAA AAA AAA AAA AAA AAA AAA AAA AAA AAA AAA AAA AAA AAA AAA AAA AAA AAA AAA AAA AAA AAA AAA AAA AAA AAA AAA AAA AAA AAA AAA AAA AAA AAA AAA AAA AAT ATA TAA AAA AAA AAA AAA AAA AAA AAA AAA AAA AAA AAA AAA AAA AAA AAA AAA AAA AAA AAA AAA AAA AAD ADA DAA AAA AAA AAA AAA AAD ADD DDD DDA DAA AAD ADA DAA AAA AAD ADD DDA DAA AAA AAD ADA DAD ADA DAA AAA AAA AAA AAD ADA DAA AAA AAA AAD ADA DAA AAA AAD ADD DDD DDD DDD DDA DAA AAD ADA DAA AAA AAD ADD DDA DAD ADA DAD ADD DDA DAA AAA AAA AAD ADA DAA AAA AAA AAA AAD ADA DAD ADA DAA AAA AAA AAA AAA AAA AAA AAA AAA AAA AAA AAA AAA AAA AAA AAC ACA CAA AAA AAT ATD TDA DAA AAA AAA AAA AAA AAA AAD ADD DDA DAD ADA DAD ADA DAA AAD ADA DAA AAA AAA AAA AAA AAD ADD DDA DAA AAD ADA DAD ADD DDD DDA DAD ADD DDA DAA AAA AAD ADA DAD ADA DAD ADA DAA AAA AAD ADT DTC TCC CCA CAD ADA DAD ADD DDA DAA AAA AAD ADA DAA AAD ADD DDA DAA AAA AAA AAD ADA DAD ADA DAD ADD DDA DAA AAC ACD CDD DDA DAA AAA AAA AAA AAA AAA AAD ADA DAC ACA CAA AAA AAA AAA AAD ADA DAA AAA AAA AAA AAA AAA AAA AAA AAA AAA AAA AAA AAA AAA AAA AAA AAA AAA AAA AAA AAA AAA AAA AAA AAD ADA DAA AAA AAD ADA DAA AAA AAA AAA AAD ADD DDA DAA AAA AAA AAA AAA AAD ADA DAA AAD ADA DAD ADA DAD ADA DAD ADD DDA DAA AAD ADD DDA DAA AAA AAA AAD ADD DDA DAA AAD ADD DDD DDD DDA DAA AAA AAA AAA AAA AAA AAD ADA DAA AAD ADA DAD ADA DAA AAA AAA AAA AAA AAA AAA AAD ADD DDA DAD ADA DAA AAA AAD ADA DAA AAA AAA AAA AAA AAA AAA AAA AAA AAA AAA AAA AAD ADA DAA AAD ADA DAD ADA DAA AAA AAA AAA AAA AAD ADA DAA AAA AAA AAD ADA DAA AAA AAA AAD ADD DDA DAD ADA DAA AAA AAA AAD ADD DDD DDA DAA AAA AAA AAA AAA AAD ADA DAA AAA AAA AAA AAA AAA AAA AAA AAD ADD DDA DAA AAA AAA AAA AAA AAA AAA AAA AAA AAD ADA DAA AAA AAA AAA AAA AAA AAA AAA AAA AAA AAA AAD ADA DAA AAA AAA AAA AAA AAA AAA AAA AAA AAA AAA AAA AAA AAA AAA AAA AAA AAA AAA AAD ADA DAA AAA AAA AAA AAA AAD ADA DAA AAA AAA AAA AAA AAA AAA AAA AAA AAA AAA AAA AAA AAA AAA AAD ADA DAA AAA AAA AAA AAA AAA AAA AAA AAD ADA DAA AAA AAA AAD ADA DAA AAA AAA AAA AAA AAD ADA DAA AAA AAA AAD ADA DAA AAA AAA AAA AAD ADD DDA DAA AAD ADD DDA DAC ACA CAA AAA AAA AAD ADD DDA DAD ADA DAA AAA AAD ADD DDA DAA AAA AAA AAD ADA DAA AAA AAA AAA AAA AAA AAA AAA AAD ADD DDA DAA AAA AAD ADA DAD ADC DCD CDD DDD DDA DAD ADC DCA CAA AAA AAA AAA AAD ADD DDA DAA AAA AAD ADA DAC ACC CCA CAD ADA DAD ADA DAC ACD CDA DAC ACA CAD ADD DDA DAA AAD ADC DCD CDA DAD ADD DDA DAA AAD ADD DDA DAD ADC DCA CAA AAA AAA AAC ACC CCA CAA AAC ACC CCC CCC CCA CAA AAC ACC CCA CAD ADD DDA DAA AAA AAA AAA AAA AAA AAA AAA AAD ADA DAA AAA AAA AAA AAD ADC DCA CAA AAD ADA DAA AAA AAA AAA AAD ADD DDD DDD DDA DAA AAA AAD ADA DAA AAA AAA AAA AAD ADA DAT ATD TDA DAA AAD ADA DAA AAA AAD ADA DAA AAD ADD DDD DDA DAA AAA AAD ADA DAA AAA AAD ADA DAD ADC DCD CDD DDA DAA AAA AAA AAA AAA AAA AAD ADA DAD ADA DAA AAA AAA AAD ADA DAD ADA DAA AAA AAD ADA DAD ADA DAD ADA DAA AAA AAA AAA AAA AAA AAA AAA AAA AAA AAD ADA DAA AAA AAA AAA AAA AAA AAA AAA AAA AAA AAD ADA DAA AAD ADA DAA AAD ADD DDA DAD ADD DDA DAD ADD DDD DDA DAA AAD ADA DAA AAT ATA TAD ADA DAA AAD ADC DCA CAA AAA AAC ACD CDA DAA AAA AAA AAA AAA AAC ACC CCA CAA AAA AAD ADD DDA DAA AAA AAA AAA AAA AAA AAA AAA AAA AAA AAA AAA AAA AAA AAA AAA AAA AAA AAA AAA AAA AAA AAA AAA AAA AAD ADA DAA AAA AAD ADA DAA AAA AAA AAA AAA AAA AAD ADA DAA AAA AAA AAA AAD ADT DTT TTD TDC DCC CCD CDA DAD ADA DAD ADD DDD DDC DCA CAA AAD ADD DDD DDA DAA AAD ADA DAA AAA AAD ADA DAA AAA AAA AAA AAA AAA AAT ATA TAA AAA AAD ADD DDA DAD ADA DAC ACC CCD CDA DAD ADC DCA CAA AAA AAA AAD ADA DAD ADD DDD DDC DCC CCC CCA CAC ACD CDD DDC DCD CDC DCD CDA DAC ACD CDA DAC ACC CCC CCD CDA DAD ADA DAD ADC DCD CDA DAC ACC CCD CDD DDD DDD DDT DTT TTD TDA DAA AAA AAA AAC ACA CAA AAA AAA AAA AAD ADA DAA AAC ACA CAA AAA AAC ACD CDD DDD DDA DAA AAA AAD ADD DDD DDA DAA AAA AAA AAA AAA AAD ADA DAA AAC ACA CAA AAA AAD ADD DDD DDD DDA DAA AAT ATD TDA DAA AAD ADD DDD DDD DDC DCC CCC CCC CCA CAD ADD DDA DAA AAD ADA DAA AAA AAA AAA AAA AAT ATD TDD DDA DAD ADA DAA AAA AAA AAA AAA AAA AAA AAA AAA AAA AAA AAA AAA AAD ADA DAA AAD ADA DAD ADA DAA AAA AAD ADA DAD ADA DAD ADA DAD ADA DAA AAA AAD ADA DAA AAD ADD DDA DAA AAA AAA AAA AAA AAD ADA DAD ADD DDD DDC DCD CDC DCC CCA CAD ADD DDA DAA AAC ACD CDA DAD ADA DAC ACA CAA AAC ACA CAC ACA CAT ATD TDD DDA DAD ADA DAA AAC ACA CAA AAD ADA DAA AAA AAA AAA AAA AAA AAA AAD ADA DAD ADA DAA AAA AAA AAA AAC ACA CAD ADD DDA DAC ACC CCA CAC ACA CAA AAD ADA DAD ADA DAA AAD ADC DCD CDD DDD DDC DCC CCA CAD ADA DAC ACA CAA AAA AAC ACD CDA DAC ACA CAD ADA DAA AAA AAA AAA AAA AAA AAD ADA DAA AAA AAA AAA AAA AAA AAA AAA AAA AAA AAD ADC DCD CDA DAA AAA AAA AAA AAA AAA AAA AAA AAA AAA AAA AAD ADA DAD ADA DAA AAD ADD DDD DDD DDA DAD ADD DDA DAA AAA AAA AAA AAA AAA AAA AAA AAD ADA DAA AAD ADD DDA DAA AAA AAA AAD ADD DDD DDA DAD ADA DAA AAA AAD ADA DAD ADA DAA AAA AAD ADA DAD ADA DAA AAD ADD DDA DAD ADD DDA DAD ADA DAA AAD ADD DDD DDD DDD DDA DAD ADA DAA AAD ADD DDC DCC CCD CDD DDC DCA CAD ADA DAA AAD ADD DDD DDA DAC ACD CDC DCA CAC ACA CAC ACD CDD DDD DDC DCA CAA AAD ADD DDA DAA AAA AAA AAC ACD CDA DAA AAD ADA DAD ADA DAA AAD ADD DDC DCD CDD DDA DAD ADC DCD CDA DAA AAA AAD ADD DDA DAC ACA CAA AAD ADA DAA AAD ADA DAD ADD DDA DAA AAD ADA DAA AAA AAA AAA AAA AAA AAA AAA AAD ADD DDA DAA AAA AAA AAA AAA AAA AAA AAA AAA AAA AAA AAC ACA CAC ACA CAC ACA CAA AAC ACC CCC CCC CCA CAC ACA CAA AAC ACA CAA AAC ACD CDC DCA CAC ACC CCC CCD CDD DDC DCA CAC ACD CDC DCC CCC CCC CCC CCA CAD ADA DAA AAD ADC DCD CDC DCD CDC DCD CDA DAA AAA AAA AAA AAA AAC ACD CDA DAA AAA AAA AAA AAD ADA DAC ACD CDA DAA AAC ACA CAA AAA AAC ACA CAA AAT ATC TCA CAA AAD ADA DAC ACA CAA AAC ACA CAC ACC CCC CCA CAA AAC ACD CDC DCA CAA AAA AAA AAA AAD ADA DAT ATT TTD TDA DAA AAA AAA AAD ADA DAD ADD DDD DDC DCC CCA CAT ATC TCC CCD CDC DCC CCA CAA AAA AAC ACC CCD CDC DCD CDA DAA AAA AAA AAA AAA AAA AAA AAA AAD ADA DAA AAA AAA AAA AAC ACA CAA AAA AAA AAA AAA AAA AAA AAA AAD ADA DAD ADA DAC ACA CAA AAA AAA AAA AAA AAA AAA AAA AAD ADA DAA AAA AAA AAA AAA AAA AAA AAA AAA AAA AAA AAA AAA AAA AAA AAA AAA AAA AAD ADD DDD DDA DAA AAA AAD ADD DDA DAA AAD ADA DAA AAT ATA TAA AAT ATT TTT TTC TCA CAA AAA AAD ADA DAA AAA AAA AAA AAA AAA AAA AAA AAA AAA AAA AAC ACC CCA CAA AAD ADA DAA AAD ADD DDA DAC ACD CDA DAA AAD ADD DDD DDD DDA DAA AAC ACA CAD ADA DAD ADA DAD ADA DAD ADA DAA AAD ADA DAA AAA AAA AAC ACD CDD DDD DDA DAD ADD DDA DAD ADA DAA AAD ADD DDA DAD ADA DAA AAA AAA AAA AAD ADD DDD DDA DAA AAA AAD ADD DDD DDD DDD DDD DDA DAD ADD DDA DAT ATA TAA AAA AAA AAA AAD ADA DAA AAA AAA AAC ACA CAA AAA AAT ATT TTA TAA AAA AAA AAA AAD ADD DDA DAC ACA CAC ACC CCA CAC ACA CAC ACT CTD TDC DCA CAD ADC DCC CCD CDC DCC CCA CAC ACA CAC ACD CDC DCC CCC CCA CAA AAA AAA AAC ACC CCA CAA AAA AAD ADA DAA AAC ACA CAA AAA AAA AAA AAA AAC ACC CCC CCA CAA AAA AAA AAA AAA AAC ACA CAA AAA AAD ADA DAD ADA DAA AAA AAA AAA AAA AAA AAA AAD ADA DAD ADD DDA DAD ADC DCD CDA DAD ADD DDD DDD DDA DAA AAA AAD ADD DDD DDA DAD ADD DDA DAD ADA DAD ADA DAD ADA DAD ADA DAA AAA AAA AAD ADD DDD DDA DAA AAD ADC DCC CCA CAD ADC DCD CDC DCA CAA AAD ADC DCA CAA AAA AAA AAD ADC DCC CCD CDA DAD ADD DDD DDD DDA DAA AAA AAA AAA AAA AAD ADA DAA AAD ADA DAD ADA DAA AAD ADD DDA DAD ADD DDA DAA AAA AAA AAA AAD ADD DDD DDD DDA DAA AAA AAD ADA DAD ADA DAA AAD ADD DDD DDA DAA AAA AAA AAA AAA AAD ADD DDD DDD DDD DDC DCA CAA AAA AAA AAC ACA CAA AAD ADA DAD ADA DAC ACA CAD ADD DDD DDA DAD ADA DAD ADD DDD DDA DAD ADA DAD ADD DDA DAD ADA DAA AAC ACA CAA AAC ACA CAA AAA AAC ACA CAC ACA CAD ADD DDD DDC DCA CAC ACA CAC ACA CAA AAD ADD DDD DDA DAD ADD DDC DCA CAA AAC ACA CAD ADA DAD ADA DAA AAA AAA AAD ADA DAD ADA DAA AAA AAA AAA AAA AAA AAD ADD DDA DAD ADA DAD ADA DAA AAA AAA AAD ADA DAA AAA AAA AAA AAD ADA DAA AAA AAA AAA AAA AAA AAA AAA AAD ADA DAC ACA CAD ADA DAD ADA DAA AAA AAA AAA AAA AAA AAA AAA AAA AAA AAA AAA AAA AAD ADA DAA AAA AAA AAD ADA DAA AAA AAD ADA DAD ADA DAD ADA DAA AAA AAD ADD DDA DAA AAA AAD ADA DAA AAA AAA AAA AAA AAA AAD ADA DAA AAD ADA DAA AAD ADD DDA DAA AAA AAA AAD ADD DDA DAA AAA AAA AAA AAA AAA AAA AAA AAD ADA DAA AAA AAA AAA AAA AAD ADA DAA AAA AAA AAA AAD ADD DDA DAA AAA AAD ADA DAA AAA AAA AAA AAA AAD ADD DDA DAA AAD ADA DAD ADA DAA AAD ADA DAA AAA AAA AAA AAA AAA AAA AAA AAA AAA AAD ADA DAA AAD ADA DAA AAA AAA AAD ADD DDA DAA AAA AAD ADA DAA AAD ADA DAA AAA AAA AAA AAA AAA AAA AAA AAA AAA AAA AAA AAA AAA AAA AAA AAA AAD ADA DAD ADA DAA AAD ADD DDD DDA DAA AAA AAA AAD ADD DDA DAA AAD ADD DDA DAA AAA AAA AAD ADA DAA AAA AAA AAD ADA DAA AAA AAA AAD ADA DAA AAA AAA AAD ADA DAA AAA AAA AAD ADA DAA AAA AAA AAA AAA AAA AAD ADA DAD ADD DDD DDD DDD DDA DAA AAD ADD DDA DAD ADA DAA AAA AAD ADA DAA AAA AAD ADA DAA AAD ADD DDA DAA AAA AAD ADD DDA DAA AAD ADA DAA AAA AAA AAA AAA AAA AAA AAD ADD DDA DAA AAA AAA AAD ADA DAA AAD ADD DDA DAA AAA AAA AAA AAA AAA AAA AAD ADD DDD DDD DDA DAD ADD DDA DAD ADA DAD ADD DDD DDA DAA AAD ADA DAA AAA AAD ADD DDA DAD ADA DAA AAA AAA AAA AAA AAA AAA AAD ADC DCA CAD ADD DDA DAD ADD DDD DDD DDD DDA DAA AAA AAD ADA DAA AAD ADA DAD ADA DAA AAD ADA DAA AAA AAD ADD DDD DDD DDA DAA AAD ADA DAD ADD DDA DAA AAD ADD DDD DDD DDD DDC DCA CAA AAA AAD ADA DAD ADA DAD ADD DDA DAA AAD ADD DDA DAA AAA AAA AAA AAA AAA AAA AAA AAA AAA AAA AAA AAD ADD DDD DDA DAD ADA DAD ADD DDA DAD ADD DDD DDD DDA DAD ADA DAD ADD DDD DDA DAD ADA DAA AAA AAA AAA AAA AAD ADA DAA AAD ADA DAA AAA AAD ADA DAD ADA DAA AAA AAD ADA DAA AAC ACD CDA DAD ADA DAA AAA AAA AAA AAA AAD ADA DAA AAA AAA AAA AAD ADD DDA DAA AAA AAD ADD DDA DAA AAA AAD ADA DAD ADA DAD ADA DAA AAA AAA AAA AAA AAA AAA AAA AAD ADA DAA AAA AAA AAA AAA AAA AAA AAD ADD DDD DDD DDA DAD ADD DDA DAA AAD ADC DCA CAA AAD ADA DAD ADD DDA DAA AAA AAA AAA AAA AAA AAA AAD ADD DDA DAA AAA AAA AAD'"
      ]
     },
     "execution_count": 11,
     "metadata": {},
     "output_type": "execute_result"
    }
   ],
   "source": [
    "\" \".join(bot_df['output'].tolist()[0])"
   ]
  },
  {
   "cell_type": "code",
   "execution_count": 12,
   "id": "ba25f73b",
   "metadata": {},
   "outputs": [],
   "source": [
    "from sklearn.feature_extraction.text import TfidfVectorizer\n",
    "# word level tf-idf\n",
    "tfidf_vect = TfidfVectorizer(analyzer='word', token_pattern=r'\\w{1,}', max_features=5000)\n",
    "tfidf_vect.fit(corpus)\n",
    "xtrain_tfidf =  tfidf_vect.transform(corpus)\n",
    "# xvalid_tfidf =  tfidf_vect.transform(corpus)"
   ]
  },
  {
   "cell_type": "code",
   "execution_count": 13,
   "id": "5709bbe0",
   "metadata": {},
   "outputs": [],
   "source": [
    "from sklearn.feature_extraction.text import TfidfVectorizer\n",
    "# word level tf-idf\n",
    "tfidf_vect1 = TfidfVectorizer(analyzer='word', token_pattern=r'\\w{1,}', max_features=5000)\n",
    "tfidf_vect1.fit(corpus1)\n",
    "xtrain_tfidf1 =  tfidf_vect1.transform(corpus1)\n",
    "# xvalid_tfidf1 =  tfidf_vect1.transform(corpus)"
   ]
  },
  {
   "cell_type": "code",
   "execution_count": 14,
   "id": "e3766659",
   "metadata": {},
   "outputs": [
    {
     "data": {
      "text/plain": [
       "<429x64 sparse matrix of type '<class 'numpy.float64'>'\n",
       "\twith 21138 stored elements in Compressed Sparse Row format>"
      ]
     },
     "execution_count": 14,
     "metadata": {},
     "output_type": "execute_result"
    }
   ],
   "source": [
    "xtrain_tfidf"
   ]
  },
  {
   "cell_type": "code",
   "execution_count": 15,
   "id": "23c1afdb",
   "metadata": {},
   "outputs": [
    {
     "data": {
      "text/plain": [
       "<431x64 sparse matrix of type '<class 'numpy.float64'>'\n",
       "\twith 10894 stored elements in Compressed Sparse Row format>"
      ]
     },
     "execution_count": 15,
     "metadata": {},
     "output_type": "execute_result"
    }
   ],
   "source": [
    "xtrain_tfidf1"
   ]
  },
  {
   "cell_type": "code",
   "execution_count": 16,
   "id": "a0db2070",
   "metadata": {},
   "outputs": [
    {
     "data": {
      "text/plain": [
       "matrix([[0.61857652, 0.06961908, 0.19133071, ..., 0.        , 0.        ,\n",
       "         0.        ],\n",
       "        [0.05014227, 0.06976578, 0.08741667, ..., 0.00691177, 0.006298  ,\n",
       "         0.01653317],\n",
       "        [0.13156592, 0.01918329, 0.1327427 , ..., 0.00297747, 0.01492184,\n",
       "         0.64862781],\n",
       "        ...,\n",
       "        [0.03249623, 0.04328985, 0.04673876, ..., 0.00671908, 0.00204081,\n",
       "         0.00229603],\n",
       "        [0.10301232, 0.07827071, 0.06584926, ..., 0.        , 0.        ,\n",
       "         0.        ],\n",
       "        [0.        , 0.        , 0.        , ..., 0.0059171 , 0.30372993,\n",
       "         0.69354046]])"
      ]
     },
     "execution_count": 16,
     "metadata": {},
     "output_type": "execute_result"
    }
   ],
   "source": [
    "xtrain_tfidf.todense()"
   ]
  },
  {
   "cell_type": "code",
   "execution_count": 17,
   "id": "8b5a118e",
   "metadata": {},
   "outputs": [
    {
     "data": {
      "text/plain": [
       "matrix([[0.89248   , 0.05125052, 0.22720237, ..., 0.00161301, 0.00601672,\n",
       "         0.00276496],\n",
       "        [0.01853544, 0.        , 0.01604457, ..., 0.        , 0.        ,\n",
       "         0.        ],\n",
       "        [0.82826224, 0.20469432, 0.21081889, ..., 0.        , 0.        ,\n",
       "         0.        ],\n",
       "        ...,\n",
       "        [0.00805767, 0.        , 0.02376977, ..., 0.        , 0.        ,\n",
       "         0.        ],\n",
       "        [0.        , 0.        , 0.        , ..., 0.        , 0.00339951,\n",
       "         0.00156224],\n",
       "        [0.09227441, 0.13100444, 0.06069231, ..., 0.        , 0.        ,\n",
       "         0.        ]])"
      ]
     },
     "execution_count": 17,
     "metadata": {},
     "output_type": "execute_result"
    }
   ],
   "source": [
    "xtrain_tfidf1.todense()"
   ]
  },
  {
   "cell_type": "code",
   "execution_count": 18,
   "id": "db831267",
   "metadata": {},
   "outputs": [
    {
     "name": "stdout",
     "output_type": "stream",
     "text": [
      "{'aaa': 5.662156657763298, 'aac': 5.771393557268041, 'aad': 5.8540266266620105, 'aat': 3.968972951414432, 'aca': 5.6283155470781825, 'acc': 5.873876742653645, 'acd': 5.940182579435869, 'act': 3.997659599552927, 'ada': 5.771393557268041, 'adc': 5.975333835910269, 'add': 6.029705471274433, 'adt': 4.504065160279758, 'ata': 3.737600103752045, 'atc': 4.040587728200746, 'atd': 4.531595536192768, 'att': 2.7676988676100716, 'caa': 5.6844601707349565, 'cac': 5.813313321401118, 'cad': 5.983731180823121, 'cat': 3.940232715835442, 'cca': 5.893353499425988, 'ccc': 5.949185061471243, 'ccd': 6.04269890130058, 'cct': 4.802886701872137, 'cda': 6.0077836067370125, 'cdc': 6.0077836067370125, 'cdd': 6.061456918928016, 'cdt': 4.816247540106351, 'cta': 3.983323012522153, 'ctc': 4.681739726128933, 'ctd': 5.001044645820034, 'ctt': 3.576691682284954, 'daa': 5.85402662666201, 'dac': 5.940182579435869, 'dad': 6.036397345931819, 'dat': 4.517838981657183, 'dca': 5.949185061471244, 'dcc': 6.022679454281306, 'dcd': 6.061456918928016, 'dct': 4.987990675107949, 'dda': 6.022679454281306, 'ddc': 6.061456918928016, 'ddd': 6.061456918928016, 'ddt': 5.416894650923952, 'dta': 4.309486536376879, 'dtc': 4.84290714656049, 'dtd': 5.4289739992468595, 'dtt': 3.8970232143930637, 'taa': 3.6792553271837614, 'tac': 3.9689729514144316, 'tad': 4.323489553925982, 'tat': 2.43009829605181, 'tca': 3.9689729514144316, 'tcc': 4.7492406352754575, 'tcd': 4.816247540106351, 'tct': 3.1909122709833118, 'tda': 4.55905632736298, 'tdc': 4.935543973681624, 'tdd': 5.4289739992468595, 'tdt': 3.6646389377626782, 'tta': 2.782941991602357, 'ttc': 3.3995566128764847, 'ttd': 3.9114395017905093, 'ttt': 3.2656658262108933}\n"
     ]
    }
   ],
   "source": [
    "from sklearn.feature_selection import mutual_info_classif\n",
    "from sklearn.feature_extraction.text import CountVectorizer\n",
    "\n",
    "res = dict(zip(tfidf_vect.get_feature_names(),\n",
    "               mutual_info_classif(xtrain_tfidf, corpus, discrete_features=True)\n",
    "               ))\n",
    "print(res)"
   ]
  },
  {
   "cell_type": "code",
   "execution_count": 19,
   "id": "3bb06373",
   "metadata": {},
   "outputs": [
    {
     "name": "stdout",
     "output_type": "stream",
     "text": [
      "{'aaa': 3.9783187350809284, 'aac': 2.789940848184518, 'aad': 4.6161873928692225, 'aat': 2.145245964989127, 'aca': 2.7443964166407517, 'acc': 2.8051041038101454, 'acd': 3.2523475869919007, 'act': 1.0312116006414105, 'ada': 4.204975009810468, 'adc': 3.162966998179106, 'add': 5.301395394544427, 'adt': 2.2382411640971807, 'ata': 1.8613728943246501, 'atc': 1.0023719972683083, 'atd': 2.2259782668316728, 'att': 1.1559651189885463, 'caa': 2.8354030665154477, 'cac': 2.5767120617478563, 'cad': 3.225811644766221, 'cat': 1.0920312642998022, 'cca': 2.7747684579462577, 'ccc': 3.3349206510176246, 'ccd': 3.7417912902540227, 'cct': 1.7580072000617644, 'cda': 3.2077034923284904, 'cdc': 3.552510805268475, 'cdd': 4.71064853172397, 'cdt': 1.8521422796317428, 'cta': 1.0632423759973686, 'ctc': 1.4265160827748131, 'ctd': 1.9460121790950162, 'ctt': 1.082464697572672, 'daa': 4.616187392869223, 'dac': 3.222595184531604, 'dad': 5.192632844222178, 'dat': 2.2504960607067814, 'dca': 3.1512509706215788, 'dcc': 3.7128028009022036, 'dcd': 4.667061615394314, 'dct': 1.7297872336695064, 'dda': 5.205191526754541, 'ddc': 4.734249295264055, 'ddd': 5.868517105298444, 'ddt': 3.7514406709578734, 'dta': 1.9584145620287114, 'dtc': 1.9616310222633282, 'dtd': 3.7192357213714367, 'dtt': 2.0052257947215195, 'taa': 2.0020093344869028, 'tac': 0.9349680918453176, 'tad': 2.0954257229357314, 'tat': 0.8738975795955799, 'tca': 1.0184031815021544, 'tcc': 1.5689611475356557, 'tcd': 1.647854385617996, 'tct': 0.7966169706426991, 'tda': 2.188562739181241, 'tdc': 1.8834619608173726, 'tdd': 3.7803800549357494, 'tdt': 1.9616310222633284, 'tta': 1.095247724534419, 'ttc': 1.0151867212675374, 'ttd': 2.1109681114860903, 'ttt': 1.5341384715286275}\n"
     ]
    }
   ],
   "source": [
    "from sklearn.feature_selection import mutual_info_classif\n",
    "from sklearn.feature_extraction.text import CountVectorizer\n",
    "\n",
    "res1 = dict(zip(tfidf_vect1.get_feature_names(),\n",
    "               mutual_info_classif(xtrain_tfidf1, corpus1, discrete_features=True)\n",
    "               ))\n",
    "print(res1)"
   ]
  },
  {
   "cell_type": "code",
   "execution_count": 20,
   "id": "67e58715",
   "metadata": {},
   "outputs": [],
   "source": [
    "HF = tfidf_vect.get_feature_names()"
   ]
  },
  {
   "cell_type": "code",
   "execution_count": 21,
   "id": "446aae5e",
   "metadata": {},
   "outputs": [
    {
     "data": {
      "text/plain": [
       "['aaa',\n",
       " 'aac',\n",
       " 'aad',\n",
       " 'aat',\n",
       " 'aca',\n",
       " 'acc',\n",
       " 'acd',\n",
       " 'act',\n",
       " 'ada',\n",
       " 'adc',\n",
       " 'add',\n",
       " 'adt',\n",
       " 'ata',\n",
       " 'atc',\n",
       " 'atd',\n",
       " 'att',\n",
       " 'caa',\n",
       " 'cac',\n",
       " 'cad',\n",
       " 'cat',\n",
       " 'cca',\n",
       " 'ccc',\n",
       " 'ccd',\n",
       " 'cct',\n",
       " 'cda',\n",
       " 'cdc',\n",
       " 'cdd',\n",
       " 'cdt',\n",
       " 'cta',\n",
       " 'ctc',\n",
       " 'ctd',\n",
       " 'ctt',\n",
       " 'daa',\n",
       " 'dac',\n",
       " 'dad',\n",
       " 'dat',\n",
       " 'dca',\n",
       " 'dcc',\n",
       " 'dcd',\n",
       " 'dct',\n",
       " 'dda',\n",
       " 'ddc',\n",
       " 'ddd',\n",
       " 'ddt',\n",
       " 'dta',\n",
       " 'dtc',\n",
       " 'dtd',\n",
       " 'dtt',\n",
       " 'taa',\n",
       " 'tac',\n",
       " 'tad',\n",
       " 'tat',\n",
       " 'tca',\n",
       " 'tcc',\n",
       " 'tcd',\n",
       " 'tct',\n",
       " 'tda',\n",
       " 'tdc',\n",
       " 'tdd',\n",
       " 'tdt',\n",
       " 'tta',\n",
       " 'ttc',\n",
       " 'ttd',\n",
       " 'ttt']"
      ]
     },
     "execution_count": 21,
     "metadata": {},
     "output_type": "execute_result"
    }
   ],
   "source": [
    "HF"
   ]
  },
  {
   "cell_type": "code",
   "execution_count": 22,
   "id": "48b0b937",
   "metadata": {},
   "outputs": [],
   "source": [
    "Human = mutual_info_classif(xtrain_tfidf,corpus)"
   ]
  },
  {
   "cell_type": "code",
   "execution_count": 23,
   "id": "f8fb3d1a",
   "metadata": {},
   "outputs": [
    {
     "data": {
      "text/plain": [
       "array([5.66215666, 5.77139356, 5.85402663, 3.96897295, 5.62831555,\n",
       "       5.87387674, 5.94018258, 3.9976596 , 5.77139356, 5.97533384,\n",
       "       6.02970547, 4.50406516, 3.7376001 , 4.04058773, 4.53159554,\n",
       "       2.76769887, 5.68446017, 5.81331332, 5.98373118, 3.94023272,\n",
       "       5.8933535 , 5.94918506, 6.0426989 , 4.8028867 , 6.00778361,\n",
       "       6.00778361, 6.06145692, 4.81624754, 3.98332301, 4.68173973,\n",
       "       5.00104465, 3.57669168, 5.85402663, 5.94018258, 6.03639735,\n",
       "       4.51783898, 5.94918506, 6.02267945, 6.06145692, 4.98799068,\n",
       "       6.02267945, 6.06145692, 6.06145692, 5.41689465, 4.30948654,\n",
       "       4.84290715, 5.428974  , 3.89702321, 3.67925533, 3.96897295,\n",
       "       4.32348955, 2.4300983 , 3.96897295, 4.74924064, 4.81624754,\n",
       "       3.19091227, 4.55905633, 4.93554397, 5.428974  , 3.66463894,\n",
       "       2.78294199, 3.39955661, 3.9114395 , 3.26566583])"
      ]
     },
     "execution_count": 23,
     "metadata": {},
     "output_type": "execute_result"
    }
   ],
   "source": [
    "Human"
   ]
  },
  {
   "cell_type": "code",
   "execution_count": 24,
   "id": "c60f885d",
   "metadata": {},
   "outputs": [],
   "source": [
    "BF = tfidf_vect.get_feature_names()"
   ]
  },
  {
   "cell_type": "code",
   "execution_count": 25,
   "id": "438998cf",
   "metadata": {},
   "outputs": [
    {
     "data": {
      "text/plain": [
       "['aaa',\n",
       " 'aac',\n",
       " 'aad',\n",
       " 'aat',\n",
       " 'aca',\n",
       " 'acc',\n",
       " 'acd',\n",
       " 'act',\n",
       " 'ada',\n",
       " 'adc',\n",
       " 'add',\n",
       " 'adt',\n",
       " 'ata',\n",
       " 'atc',\n",
       " 'atd',\n",
       " 'att',\n",
       " 'caa',\n",
       " 'cac',\n",
       " 'cad',\n",
       " 'cat',\n",
       " 'cca',\n",
       " 'ccc',\n",
       " 'ccd',\n",
       " 'cct',\n",
       " 'cda',\n",
       " 'cdc',\n",
       " 'cdd',\n",
       " 'cdt',\n",
       " 'cta',\n",
       " 'ctc',\n",
       " 'ctd',\n",
       " 'ctt',\n",
       " 'daa',\n",
       " 'dac',\n",
       " 'dad',\n",
       " 'dat',\n",
       " 'dca',\n",
       " 'dcc',\n",
       " 'dcd',\n",
       " 'dct',\n",
       " 'dda',\n",
       " 'ddc',\n",
       " 'ddd',\n",
       " 'ddt',\n",
       " 'dta',\n",
       " 'dtc',\n",
       " 'dtd',\n",
       " 'dtt',\n",
       " 'taa',\n",
       " 'tac',\n",
       " 'tad',\n",
       " 'tat',\n",
       " 'tca',\n",
       " 'tcc',\n",
       " 'tcd',\n",
       " 'tct',\n",
       " 'tda',\n",
       " 'tdc',\n",
       " 'tdd',\n",
       " 'tdt',\n",
       " 'tta',\n",
       " 'ttc',\n",
       " 'ttd',\n",
       " 'ttt']"
      ]
     },
     "execution_count": 25,
     "metadata": {},
     "output_type": "execute_result"
    }
   ],
   "source": [
    "BF"
   ]
  },
  {
   "cell_type": "code",
   "execution_count": 26,
   "id": "aa957194",
   "metadata": {},
   "outputs": [],
   "source": [
    "Bot = mutual_info_classif(xtrain_tfidf1,corpus1)"
   ]
  },
  {
   "cell_type": "code",
   "execution_count": 27,
   "id": "814cb3af",
   "metadata": {},
   "outputs": [
    {
     "data": {
      "text/plain": [
       "array([3.97831874, 2.78994085, 4.61618739, 2.14524596, 2.74439642,\n",
       "       2.8051041 , 3.25234759, 1.0312116 , 4.20497501, 3.162967  ,\n",
       "       5.30139539, 2.23824116, 1.86137289, 1.002372  , 2.22597827,\n",
       "       1.15596512, 2.83540307, 2.57671206, 3.22581164, 1.09203126,\n",
       "       2.77476846, 3.33492065, 3.74179129, 1.7580072 , 3.20770349,\n",
       "       3.55251081, 4.71064853, 1.85214228, 1.06324238, 1.42651608,\n",
       "       1.94601218, 1.0824647 , 4.61618739, 3.22259518, 5.19263284,\n",
       "       2.25049606, 3.15125097, 3.7128028 , 4.66706162, 1.72978723,\n",
       "       5.20519153, 4.7342493 , 5.86851711, 3.75144067, 1.95841456,\n",
       "       1.96163102, 3.71923572, 2.00522579, 2.00200933, 0.93496809,\n",
       "       2.09542572, 0.87389758, 1.01840318, 1.56896115, 1.64785439,\n",
       "       0.79661697, 2.18856274, 1.88346196, 3.78038005, 1.96163102,\n",
       "       1.09524772, 1.01518672, 2.11096811, 1.53413847])"
      ]
     },
     "execution_count": 27,
     "metadata": {},
     "output_type": "execute_result"
    }
   ],
   "source": [
    "Bot"
   ]
  },
  {
   "cell_type": "code",
   "execution_count": 28,
   "id": "d961bdfe",
   "metadata": {},
   "outputs": [
    {
     "data": {
      "image/png": "[encoded data removed]",
      "text/plain": [
       "<Figure size 432x288 with 1 Axes>"
      ]
     },
     "metadata": {
      "needs_background": "light"
     },
     "output_type": "display_data"
    },
    {
     "data": {
      "text/plain": [
       "<Figure size 7200x7200 with 0 Axes>"
      ]
     },
     "metadata": {},
     "output_type": "display_data"
    }
   ],
   "source": [
    "import matplotlib.pyplot as plt\n",
    "\n",
    "x = Bot\n",
    "y = BF\n",
    "\n",
    "plt.scatter(x, y, s=30, color=\"Red\")\n",
    "\n",
    "x = Human\n",
    "y = HF\n",
    "\n",
    "plt.scatter(x, y, s=20, color=\"Green\")\n",
    "\n",
    "plt.xlim(0, 6)\n",
    "\n",
    "plt.title(\"BorderLine Bots Prediction\")\n",
    "plt.xlabel(\"Information Gain\")\n",
    "plt.ylabel(\"Features\")\n",
    "plt.figure(figsize=(100,100))\n",
    "plt.show()"
   ]
  },
  {
   "cell_type": "code",
   "execution_count": 29,
   "id": "1624e3dd",
   "metadata": {},
   "outputs": [
    {
     "data": {
      "image/png": "[encoded data removed]",
      "text/plain": [
       "<Figure size 720x432 with 3 Axes>"
      ]
     },
     "metadata": {
      "needs_background": "light"
     },
     "output_type": "display_data"
    }
   ],
   "source": [
    "import matplotlib.pyplot as plt\n",
    "import pandas as pd\n",
    "\n",
    "fig, ax = plt.subplots(3, figsize=(10, 6))\n",
    "\n",
    "ax[0].scatter(x = Bot, y = BF, s=30, color=\"Red\")\n",
    "ax[0].set_title(\"BorderLine Bots Prediction\")\n",
    "ax[0].set_xlim(0,2)\n",
    "ax[0].set_xlabel(\"Information Gain\")\n",
    "ax[0].set_ylabel(\"Features\")\n",
    "\n",
    "ax[1].scatter(x = Bot, y = BF, s=30, color=\"Red\")\n",
    "ax[1].set_xlim(2,6)\n",
    "ax[1].set_xlabel(\"Information Gain\")\n",
    "ax[1].set_ylabel(\"Features\")\n",
    "\n",
    "ax[2].scatter(x = Human, y = HF, s=20, color=\"Green\")\n",
    "ax[2].set_xlim(0,6)\n",
    "ax[2].set_xlabel(\"Information Gain\")\n",
    "ax[2].set_ylabel(\"Features\")\n",
    "\n",
    "plt.show()"
   ]
  },
  {
   "cell_type": "code",
   "execution_count": null,
   "id": "4ceb355f",
   "metadata": {},
   "outputs": [],
   "source": []
  }
 ],
 "metadata": {
  "kernelspec": {
   "display_name": "Python 3",
   "language": "python",
   "name": "python3"
  },
  "language_info": {
   "codemirror_mode": {
    "name": "ipython",
    "version": 3
   },
   "file_extension": ".py",
   "mimetype": "text/x-python",
   "name": "python",
   "nbconvert_exporter": "python",
   "pygments_lexer": "ipython3",
   "version": "3.8.8"
  }
 },
 "nbformat": 4,
 "nbformat_minor": 5
}
